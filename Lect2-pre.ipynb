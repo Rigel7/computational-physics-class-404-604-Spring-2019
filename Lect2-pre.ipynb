{
 "cells": [
  {
   "cell_type": "markdown",
   "metadata": {},
   "source": [
    "# Physics 404/604\n",
    "\n",
    "## Computational Physics (Spring 2019)\n",
    "\n",
    "## BPB-250, Mon./Wed. 1:00-2:15 pm\n",
    "\n",
    "| Instructor | Prof. Zhaohuan Zhu                 |\n",
    "| ---------- | :--------------------------------- |\n",
    "| Email      | zhaohuan.zhu@unlv.edu              |\n",
    "| Website    | http://www.physics.unlv.edu/~zhzhu |\n",
    "| Office     | BPB 245                            |\n",
    "\n",
    "\n",
    "\n",
    "\n",
    "\n",
    "\n",
    "# 1. Programing Style: Efficient Algorithm\n",
    "\n",
    "\n",
    "## 1.1 Programming guide\n",
    "* Give the correct answers\n",
    "* clear and easy to read (including documenting itself)\n",
    "* easy to use\n",
    "* built up out of small programs that can be tested individually easy to modify and robust  \n",
    "* Try to use efficient algorithm\n",
    "\n",
    "\n",
    "\n"
   ]
  },
  {
   "cell_type": "markdown",
   "metadata": {},
   "source": [
    "## 1.2 Efficient ways to calculate Fibonacci numbers\n",
    "\n",
    "Fibonacci number\n",
    "The number series: 1, 1, 2, 3, 5, 8, 13, 21, 34, …\n",
    "\\begin{equation}\n",
    "F_{n}=F_{n-1}+F_{n-2}\n",
    "\\end{equation}\n",
    "What is $F_{n}$?\n",
    "\n",
    "Solution: there is an analytical solution\n",
    "\\begin{equation}\n",
    "F_{n}=\\frac{\\phi^{n}-(1-\\phi)^n}{\\sqrt{5}}\n",
    "\\end{equation}\n",
    "where $\\phi=\\frac{1+\\sqrt(5)}{2}$  \n",
    "\n",
    "\n",
    "### 1.3.1 Direct Calculation:"
   ]
  },
  {
   "cell_type": "code",
   "execution_count": 1,
   "metadata": {},
   "outputs": [],
   "source": [
    "import numpy as np\n",
    "def fib1(n):\n",
    "    phi=(1.+np.sqrt(5))/2.\n",
    "    return (phi**n-(1.-phi)**n)/np.sqrt(5.)"
   ]
  },
  {
   "cell_type": "code",
   "execution_count": 2,
   "metadata": {},
   "outputs": [
    {
     "name": "stdout",
     "output_type": "stream",
     "text": [
      "102334155.00000013\n",
      "--- 0.0010004043579101562 seconds ---\n"
     ]
    }
   ],
   "source": [
    "import time\n",
    "start_time = time.time()\n",
    "print(fib1(40))\n",
    "print(\"--- %s seconds ---\" % (time.time() - start_time))\n",
    "start_time = time.time()\n"
   ]
  },
  {
   "cell_type": "markdown",
   "metadata": {},
   "source": [
    "Dynamic Programming:  \n",
    "An algorithmic paradigm that solves a complex problem by breaking it into subproblems and stores the results of subproblems to avoid computing the same results again.\n",
    "\n",
    "### 1.3.2 Recursion method:"
   ]
  },
  {
   "cell_type": "code",
   "execution_count": 3,
   "metadata": {},
   "outputs": [],
   "source": [
    "# Recursion\n",
    "def fib2(n):      # extremely simple, but exponentially running time, very slow for large n, n cannot too large (stack limit)\n",
    "    if n == 0: return 0\n",
    "    elif n == 1: return 1\n",
    "    else: return fib2(n-1) + fib2(n-2)  # Please finish this line"
   ]
  },
  {
   "cell_type": "code",
   "execution_count": 4,
   "metadata": {},
   "outputs": [
    {
     "name": "stdout",
     "output_type": "stream",
     "text": [
      "102334155\n",
      "--- 42.22549748420715 seconds ---\n"
     ]
    }
   ],
   "source": [
    "import time\n",
    "start_time = time.time()\n",
    "print(fib2(40))\n",
    "print(\"--- %s seconds ---\" % (time.time() - start_time))"
   ]
  },
  {
   "cell_type": "markdown",
   "metadata": {},
   "source": [
    "### 1.3.3 Memorization method (Top down):"
   ]
  },
  {
   "cell_type": "code",
   "execution_count": 5,
   "metadata": {},
   "outputs": [],
   "source": [
    "def fib3(n, table): # Store the data we already calculated, linear space and time complexity, but still have the stack limit\n",
    "    if n == 0 or n==1:\n",
    "        table[n]=n\n",
    "    \n",
    "    # if the value has not been calculated, calculate it \n",
    "    if table[n] is None:\n",
    "        # Please finish this line\n",
    "        table[n] = fib3(n-1, table) + fib3(n-2, table)\n",
    "    return table[n]"
   ]
  },
  {
   "cell_type": "code",
   "execution_count": 6,
   "metadata": {},
   "outputs": [
    {
     "name": "stdout",
     "output_type": "stream",
     "text": [
      "102334155\n",
      "--- 0.0 seconds ---\n",
      "17108476902340227241249719513231821477382749898026920041550883749834348017250935801359315038923367841494936038231522506358371361016671790887791259870264957823133253627917432203111969704623229384763490617075388642696139893354058660570399927047816296952516330636633851111646387885472698683607925\n",
      "--- 0.0009980201721191406 seconds ---\n",
      "4224696333392304878706725602341482782579852840250681098010280137314308584370130707224123599639141511088446087538909603607640194711643596029271983312598737326253555802606991585915229492453904998722256795316982874482472992263901833716778060607011615497886719879858311468870876264597369086722884023654422295243347964480139515349562972087652656069529806499841977448720155612802665404554171717881930324025204312082516817125\n",
      "--- 0.0029892921447753906 seconds ---\n"
     ]
    }
   ],
   "source": [
    "import time\n",
    "n=40\n",
    "table = [None]*(n+1)\n",
    "start_time = time.time()\n",
    "print(fib3(n, table))\n",
    "print(\"--- %s seconds ---\" % (time.time() - start_time))\n",
    "n=1400\n",
    "table = [None]*(n+1)\n",
    "start_time = time.time()\n",
    "print(fib3(n, table))\n",
    "print(\"--- %s seconds ---\" % (time.time() - start_time))\n",
    "n=2000\n",
    "table = [None]*(n+1)\n",
    "start_time = time.time()\n",
    "print(fib3(n, table))\n",
    "print(\"--- %s seconds ---\" % (time.time() - start_time))"
   ]
  },
  {
   "cell_type": "markdown",
   "metadata": {},
   "source": [
    "### 1.3.4  Tabulation Method (bottom-up)\n"
   ]
  },
  {
   "cell_type": "code",
   "execution_count": 7,
   "metadata": {},
   "outputs": [],
   "source": [
    "def fib4(n):\n",
    "    table=[0]*(n+1)\n",
    "    table[1] = 1\n",
    "    \n",
    "    for i in range(2,n+1):\n",
    "        # Please finish this line\n",
    "        table[i] = table[i-1] + table[i-2]\n",
    "    return table[n]"
   ]
  },
  {
   "cell_type": "code",
   "execution_count": 8,
   "metadata": {},
   "outputs": [
    {
     "name": "stdout",
     "output_type": "stream",
     "text": [
      "102334155\n",
      "--- 0.0 seconds ---\n",
      "3002468761178461090995494179715025648692747937490792943468375429502230242942284835863402333575216217865811638730389352239181342307756720414619391217798542575996541081060501905302157019002614964717310808809478675602711440361241500732699145834377856326394037071666274321657305320804055307021019793251762830816701587386994888032362232198219843549865275880699612359275125243457132496772854886508703396643365042454333009802006384286859581649296390803003232654898464561589234445139863242606285711591746222880807391057211912655818499798720987302540712067959840802106849776547522247429904618357394771725653253559346195282601285019169360207355179223814857106405285007997547692546378757062999581657867188420995770650565521377874333085963123444258953052751461206977615079511435862879678439081175536265576977106865074099512897235100538241196445815568291377846656352979228098911566675956525644182645608178603837172227838896725425605719942300037650526231486881066037397866942013838296769284745527778439272995067231492069369130289154753132313883294398593507873555667211005422003204156154859031529462152953119957597195735953686798871131148255050140450845034240095305094449911578598539658855704158240221809528010179414493499583473568873253067921639513996596738275817909624857593693291980841303291145613566466575233283651420134915764961372875933822262953420444548349180436583183291944875599477240814774580187144637965487250578134990402443365677985388481961492444981994523034245619781853365476552719460960795929666883665704293897310201276011658074359194189359660792496027472226428571547971602259808697441435358578480589837766911684200275636889192254762678512597000452676191374475932796663842865744658264924913771676415404179920096074751516422872997665425047457428327276230059296132722787915300105002019006293320082955378715908263653377755031155794063450515731009402407584683132870206376994025920790298591144213659942668622062191441346200098342943955169522532574271644954360217472458521489671859465232568419404182043966092211744372699797375966048010775453444600153524772238401414789562651410289808994960533132759532092895779406940925252906166612153699850759933762897947175972147868784008320247586210378556711332739463277940255289047962323306946068381887446046387745247925675240182981190836264964640612069909458682443392729946084099312047752966806439331403663934969942958022237945205992581178803606156982034385347182766573351768749665172549908638337611953199808161937885366709285043276595726484068138091188914698151703122773726725261370542355162118164302728812259192476428938730724109825922331973256105091200551566581350508061922762910078528219869913214146575557249199263634241165352226570749618907050553115468306669184485910269806225894530809823102279231750061652042560772530576713148647858705369649642907780603247428680176236527220826640665659902650188140474762163503557640566711903907798932853656216227739411210513756695569391593763704981001125\n",
      "--- 0.012946128845214844 seconds ---\n"
     ]
    }
   ],
   "source": [
    "import time\n",
    "start_time = time.time()\n",
    "print(fib4(40))\n",
    "print(\"--- %s seconds ---\" % (time.time() - start_time))\n",
    "start_time = time.time()\n",
    "print(fib4(14000)) # 1500 too much\n",
    "print(\"--- %s seconds ---\" % (time.time() - start_time))"
   ]
  },
  {
   "cell_type": "markdown",
   "metadata": {},
   "source": [
    "### 1.3.5 Using Matrix Algebra\n",
    "\n",
    "$$\\left[\\begin{array}\n",
    "{rr}\n",
    "1 & 1 \\\\\n",
    "1 & 0 \\\\\n",
    "\\end{array}\\right]^n=\\left[\\begin{array}\n",
    "{rr}\n",
    "F(n+1) & F(n) \\\\\n",
    "F(n) & F(n-1) \\\\\n",
    "\\end{array}\\right]\n",
    "$$\n",
    "\n",
    "What is the fastest way to calculate $3.14^{100}$?"
   ]
  },
  {
   "cell_type": "code",
   "execution_count": 9,
   "metadata": {},
   "outputs": [],
   "source": [
    "def arrpow(arr, n):\n",
    "    yarr=arr\n",
    "    if n<1:\n",
    "        print('n needs to be larger than 1')\n",
    "    if n==1:\n",
    "        return arr\n",
    "    yarr = arrpow(arr, n//2)\n",
    "    yarr = [[yarr[0][0]*yarr[0][0]+yarr[0][1]*yarr[1][0],yarr[0][0]*yarr[0][1]+yarr[0][1]*yarr[1][1]],\n",
    "            [yarr[1][0]*yarr[0][0]+yarr[1][1]*yarr[1][0],yarr[1][0]*yarr[0][1]+yarr[1][1]*yarr[1][1]]]\n",
    "    if n%2:\n",
    "        yarr=[[yarr[0][0]*arr[0][0]+yarr[0][1]*arr[1][0],yarr[0][0]*arr[0][1]+yarr[0][1]*arr[1][1]],\n",
    "            [yarr[1][0]*arr[0][0]+yarr[1][1]*arr[1][0],yarr[1][0]*arr[0][1]+yarr[1][1]*arr[1][1]]]\n",
    "    return yarr\n",
    "\n",
    "def fib5(n):\n",
    "    arr= [[1,1],[1,0]]\n",
    "    f=arrpow(arr,n-1)[0][0]\n",
    "    return f\n",
    "    \n",
    "\n"
   ]
  },
  {
   "cell_type": "code",
   "execution_count": 10,
   "metadata": {
    "scrolled": true
   },
   "outputs": [
    {
     "name": "stdout",
     "output_type": "stream",
     "text": [
      "102334155\n",
      "--- 0.0 seconds ---\n",
      "3002468761178461090995494179715025648692747937490792943468375429502230242942284835863402333575216217865811638730389352239181342307756720414619391217798542575996541081060501905302157019002614964717310808809478675602711440361241500732699145834377856326394037071666274321657305320804055307021019793251762830816701587386994888032362232198219843549865275880699612359275125243457132496772854886508703396643365042454333009802006384286859581649296390803003232654898464561589234445139863242606285711591746222880807391057211912655818499798720987302540712067959840802106849776547522247429904618357394771725653253559346195282601285019169360207355179223814857106405285007997547692546378757062999581657867188420995770650565521377874333085963123444258953052751461206977615079511435862879678439081175536265576977106865074099512897235100538241196445815568291377846656352979228098911566675956525644182645608178603837172227838896725425605719942300037650526231486881066037397866942013838296769284745527778439272995067231492069369130289154753132313883294398593507873555667211005422003204156154859031529462152953119957597195735953686798871131148255050140450845034240095305094449911578598539658855704158240221809528010179414493499583473568873253067921639513996596738275817909624857593693291980841303291145613566466575233283651420134915764961372875933822262953420444548349180436583183291944875599477240814774580187144637965487250578134990402443365677985388481961492444981994523034245619781853365476552719460960795929666883665704293897310201276011658074359194189359660792496027472226428571547971602259808697441435358578480589837766911684200275636889192254762678512597000452676191374475932796663842865744658264924913771676415404179920096074751516422872997665425047457428327276230059296132722787915300105002019006293320082955378715908263653377755031155794063450515731009402407584683132870206376994025920790298591144213659942668622062191441346200098342943955169522532574271644954360217472458521489671859465232568419404182043966092211744372699797375966048010775453444600153524772238401414789562651410289808994960533132759532092895779406940925252906166612153699850759933762897947175972147868784008320247586210378556711332739463277940255289047962323306946068381887446046387745247925675240182981190836264964640612069909458682443392729946084099312047752966806439331403663934969942958022237945205992581178803606156982034385347182766573351768749665172549908638337611953199808161937885366709285043276595726484068138091188914698151703122773726725261370542355162118164302728812259192476428938730724109825922331973256105091200551566581350508061922762910078528219869913214146575557249199263634241165352226570749618907050553115468306669184485910269806225894530809823102279231750061652042560772530576713148647858705369649642907780603247428680176236527220826640665659902650188140474762163503557640566711903907798932853656216227739411210513756695569391593763704981001125\n",
      "--- 0.0009999275207519531 seconds ---\n"
     ]
    }
   ],
   "source": [
    "import time\n",
    "start_time = time.time()\n",
    "print(fib5(40))\n",
    "print(\"--- %s seconds ---\" % (time.time() - start_time))\n",
    "import time\n",
    "start_time = time.time()\n",
    "print(fib5(14000)) # 93 overflow\n",
    "print(\"--- %s seconds ---\" % (time.time() - start_time))"
   ]
  },
  {
   "cell_type": "markdown",
   "metadata": {},
   "source": [
    "# 2. How to represent numbers?\n",
    "\n"
   ]
  },
  {
   "cell_type": "markdown",
   "metadata": {},
   "source": [
    "## 2.1 Integers:   \n",
    "\n",
    " [$-2^{n-1}$, $2^{n-1}$] where n is the number of bits used to store the signed integer\n",
    "      \n",
    "      Note that in python2 integer is either 4 bytes or 8 bytes. In python 3, integer can be any length as long as the memory allows. On the otherhand, some python libraries (e.g. numpy) donot support these very long integers. Remember only 19 digets integer"
   ]
  },
  {
   "cell_type": "code",
   "execution_count": 11,
   "metadata": {},
   "outputs": [
    {
     "name": "stdout",
     "output_type": "stream",
     "text": [
      "int64\n",
      "[9223372036854775807] 0b111111111111111111111111111111111111111111111111111111111111111\n",
      "[-9223372036854775808] -0b1000000000000000000000000000000000000000000000000000000000000000\n"
     ]
    },
    {
     "name": "stderr",
     "output_type": "stream",
     "text": [
      "C:\\Users\\luojiawei\\Anaconda3\\lib\\site-packages\\ipykernel_launcher.py:5: RuntimeWarning: overflow encountered in longlong_scalars\n",
      "  \"\"\"\n"
     ]
    }
   ],
   "source": [
    "import numpy as np\n",
    "a=np.array([2**63-1])\n",
    "print(a.dtype)\n",
    "print(a,bin(a[0]))\n",
    "print(a+1,bin(a[0]+1))\n",
    "    "
   ]
  },
  {
   "cell_type": "markdown",
   "metadata": {},
   "source": [
    "## 2.2 Floating point numbers:\n",
    "\n",
    "8 bytes  \n",
    "One number in the memory   \n",
    "ABBBBBBBBBBBCCCCCCCCCCCCCCCCCCCCCCCCCCCCCCCCCCCCCCCCCCCCCCCCCCCC\n",
    "\n",
    "A: sign  \n",
    "B: e  \n",
    "C: $b_{52-i}$\n",
    "i is the bit of C; the i of the leftmost C is 1; the i of the rightmost C is 52.\n",
    "\n",
    "\\begin{equation}  \n",
    "x=(-1)^{sign}(1+\\sum_{i=1}^{52} b_{52-i}2^{-i})2^{e-1023}\n",
    "\\end{equation}"
   ]
  },
  {
   "cell_type": "code",
   "execution_count": 12,
   "metadata": {},
   "outputs": [],
   "source": [
    "import random\n",
    "import numpy as np\n",
    "import struct"
   ]
  },
  {
   "cell_type": "code",
   "execution_count": 13,
   "metadata": {},
   "outputs": [],
   "source": [
    "def fextract(num):\n",
    "    return ''.join(bin(c).replace('0b', '').rjust(8, '0') for c in struct.pack('!d', num))"
   ]
  },
  {
   "cell_type": "code",
   "execution_count": 14,
   "metadata": {},
   "outputs": [
    {
     "name": "stdout",
     "output_type": "stream",
     "text": [
      "1.0000000000000000000000000000000  0 01111111111 0000000000000000000000000000000000000000000000000000\n"
     ]
    }
   ],
   "source": [
    "num=1.0\n",
    "print(\"%.31f  %s\"%(num,fextract(num)[0]+' '+fextract(num)[1:12]+' '+fextract(num)[12:]))"
   ]
  },
  {
   "cell_type": "code",
   "execution_count": 15,
   "metadata": {},
   "outputs": [
    {
     "name": "stdout",
     "output_type": "stream",
     "text": [
      "0.5000000000000000000000000000000  0 01111111110 0000000000000000000000000000000000000000000000000000\n"
     ]
    }
   ],
   "source": [
    "num=0.5\n",
    "print(\"%.31f  %s\"%(num,fextract(num)[0]+' '+fextract(num)[1:12]+' '+fextract(num)[12:]))"
   ]
  },
  {
   "cell_type": "code",
   "execution_count": 16,
   "metadata": {},
   "outputs": [
    {
     "name": "stdout",
     "output_type": "stream",
     "text": [
      "0.7500000000000000000000000000000  0 01111111110 1000000000000000000000000000000000000000000000000000\n"
     ]
    }
   ],
   "source": [
    "num=0.75\n",
    "print(\"%.31f  %s\"%(num,fextract(num)[0]+' '+fextract(num)[1:12]+' '+fextract(num)[12:]))"
   ]
  },
  {
   "cell_type": "code",
   "execution_count": 17,
   "metadata": {},
   "outputs": [
    {
     "name": "stdout",
     "output_type": "stream",
     "text": [
      "0.2000000000000000111022302462516  0 01111111100 1001100110011001100110011001100110011001100110011010\n"
     ]
    }
   ],
   "source": [
    "num=0.2\n",
    "print(\"%.31f  %s\"%(num,fextract(num)[0]+' '+fextract(num)[1:12]+' '+fextract(num)[12:]))"
   ]
  },
  {
   "cell_type": "code",
   "execution_count": 18,
   "metadata": {},
   "outputs": [
    {
     "name": "stdout",
     "output_type": "stream",
     "text": [
      "1.8000000000000000444089209850063  0 01111111111 1100110011001100110011001100110011001100110011001101\n",
      "1.8000000000000000444089209850063  0 01111111111 1100110011001100110011001100110011001100110011001101\n",
      "1.7999999999999998223643160599750  0 01111111111 1100110011001100110011001100110011001100110011001100\n"
     ]
    }
   ],
   "source": [
    "# Left association is important !!! Keep this in mind when you are dealing with round-off errors.\n",
    "\n",
    "num=0.2+1.9-0.3\n",
    "print(\"%.31f  %s\"%(num,fextract(num)[0]+' '+fextract(num)[1:12]+' '+fextract(num)[12:]))\n",
    "\n",
    "\n",
    "num=1.9+0.2-0.3\n",
    "print(\"%.31f  %s\"%(num,fextract(num)[0]+' '+fextract(num)[1:12]+' '+fextract(num)[12:]))\n",
    "\n",
    "\n",
    "num=0.2-0.3+1.9\n",
    "print(\"%.31f  %s\"%(num,fextract(num)[0]+' '+fextract(num)[1:12]+' '+fextract(num)[12:]))\n",
    "\n",
    "# A+B-C does not equal A-C+B"
   ]
  },
  {
   "cell_type": "markdown",
   "metadata": {},
   "source": [
    "Range \n",
    "\n",
    "[-$10^{308}$, -$10^{-324}$] [$10^{-324}$,10$^{308}$]"
   ]
  },
  {
   "cell_type": "code",
   "execution_count": 19,
   "metadata": {},
   "outputs": [
    {
     "name": "stdout",
     "output_type": "stream",
     "text": [
      "0.0000000000000000000e+00  0 00000000000 0000000000000000000000000000000000000000000000000000\n"
     ]
    }
   ],
   "source": [
    "num=1.e-325 #underflow sometimes is treated as 0\n",
    "print(\"%.19e  %s\"%(num,fextract(num)[0]+' '+fextract(num)[1:12]+' '+fextract(num)[12:]))"
   ]
  },
  {
   "cell_type": "code",
   "execution_count": 20,
   "metadata": {},
   "outputs": [
    {
     "name": "stdout",
     "output_type": "stream",
     "text": [
      "9.8813129168249308835e-324  0 00000000000 0000000000000000000000000000000000000000000000000010\n"
     ]
    }
   ],
   "source": [
    "num=1.e-323\n",
    "print(\"%.19e  %s\"%(num,fextract(num)[0]+' '+fextract(num)[1:12]+' '+fextract(num)[12:]))"
   ]
  },
  {
   "cell_type": "code",
   "execution_count": 21,
   "metadata": {},
   "outputs": [
    {
     "name": "stdout",
     "output_type": "stream",
     "text": [
      "inf  0 11111111111 0000000000000000000000000000000000000000000000000000\n"
     ]
    }
   ],
   "source": [
    "num=1.e309 #overflow generates infinity\n",
    "print(\"%.19e  %s\"%(num,fextract(num)[0]+' '+fextract(num)[1:12]+' '+fextract(num)[12:]))"
   ]
  },
  {
   "cell_type": "code",
   "execution_count": 22,
   "metadata": {},
   "outputs": [
    {
     "name": "stdout",
     "output_type": "stream",
     "text": [
      "1.7976931347999999853e+308  0 11111111110 1111111111111111111111111111111110110011110001011011\n"
     ]
    }
   ],
   "source": [
    "num=1.7976931348e308 #overflow generates infinity\n",
    "print(\"%.19e  %s\"%(num,fextract(num)[0]+' '+fextract(num)[1:12]+' '+fextract(num)[12:]))"
   ]
  },
  {
   "cell_type": "code",
   "execution_count": 23,
   "metadata": {},
   "outputs": [
    {
     "name": "stdout",
     "output_type": "stream",
     "text": [
      "Overflow! 8.9884656743115795386e+307  0 11111111110 0000000000000000000000000000000000000000000000000000\n",
      "Underflow! 4.9406564584124654418e-324  0 00000000000 0000000000000000000000000000000000000000000000000001\n"
     ]
    }
   ],
   "source": [
    "# Write a code to determine the overflow and underflow limit to be accurate by a factor 2\n",
    "\n",
    "under =1.\n",
    "underflow = overflow = False\n",
    "over =1.\n",
    "for i in range(1100):\n",
    "    if underflow is False:\n",
    "        under = under / 2\n",
    "        if fextract(under)[1:12] == '00000000000' and fextract(under)[12:]== '0000000000000000000000000000000000000000000000000001':\n",
    "            print(\"Underflow! %.19e  %s\"%(under,fextract(under)[0]+' '+fextract(under)[1:12]+' '+fextract(under)[12:]))\n",
    "            underflow = True\n",
    "    if overflow is False:\n",
    "        over = over * 2\n",
    "        if fextract(over)[1:12] == '11111111110':\n",
    "            print(\"Overflow! %.19e  %s\"%(over,fextract(over)[0]+' '+fextract(over)[1:12]+' '+fextract(over)[12:]))\n",
    "            overflow = True\n",
    "    if overflow and underflow: break"
   ]
  },
  {
   "cell_type": "markdown",
   "metadata": {},
   "source": [
    "Machine Precision: "
   ]
  },
  {
   "cell_type": "code",
   "execution_count": 24,
   "metadata": {},
   "outputs": [
    {
     "name": "stdout",
     "output_type": "stream",
     "text": [
      "0.0000000000000000100000000000000  0 01111000110 0111000011101111010101000110010001101101010010010111\n"
     ]
    }
   ],
   "source": [
    "num=1.0e-17\n",
    "print(\"%.31f  %s\"%(num,fextract(num)[0]+' '+fextract(num)[1:12]+' '+fextract(num)[12:]))"
   ]
  },
  {
   "cell_type": "code",
   "execution_count": 25,
   "metadata": {},
   "outputs": [
    {
     "name": "stdout",
     "output_type": "stream",
     "text": [
      "1.0000000000000000000000000000000  0 01111111111 0000000000000000000000000000000000000000000000000000\n"
     ]
    }
   ],
   "source": [
    "num=1.0+1.0e-17\n",
    "print(\"%.31f  %s\"%(num,fextract(num)[0]+' '+fextract(num)[1:12]+' '+fextract(num)[12:]))"
   ]
  },
  {
   "cell_type": "code",
   "execution_count": 26,
   "metadata": {},
   "outputs": [
    {
     "name": "stdout",
     "output_type": "stream",
     "text": [
      "100.0999999999999943156581139191985 100.0999999999999943156581139191985\n"
     ]
    }
   ],
   "source": [
    "num1 = 100.1\n",
    "num2= 100.1+100.*1.0e-17\n",
    "print(\"%.31f %.31f\"%(num1,num2))"
   ]
  },
  {
   "cell_type": "code",
   "execution_count": 27,
   "metadata": {},
   "outputs": [
    {
     "name": "stdout",
     "output_type": "stream",
     "text": [
      "1.5\n",
      "1.25\n",
      "1.125\n",
      "1.0625\n",
      "1.03125\n",
      "1.015625\n",
      "1.0078125\n",
      "1.00390625\n",
      "1.001953125\n",
      "1.0009765625\n",
      "1.00048828125\n",
      "1.000244140625\n",
      "1.0001220703125\n",
      "1.00006103515625\n",
      "1.000030517578125\n",
      "1.0000152587890625\n",
      "1.0000076293945312\n",
      "1.0000038146972656\n",
      "1.0000019073486328\n",
      "1.0000009536743164\n",
      "1.0000004768371582\n",
      "1.000000238418579\n",
      "1.0000001192092896\n",
      "1.0000000596046448\n",
      "1.0000000298023224\n",
      "1.0000000149011612\n",
      "1.0000000074505806\n",
      "1.0000000037252903\n",
      "1.0000000018626451\n",
      "1.0000000009313226\n",
      "1.0000000004656613\n",
      "1.0000000002328306\n",
      "1.0000000001164153\n",
      "1.0000000000582077\n",
      "1.0000000000291038\n",
      "1.000000000014552\n",
      "1.000000000007276\n",
      "1.000000000003638\n",
      "1.000000000001819\n",
      "1.0000000000009095\n",
      "1.0000000000004547\n",
      "1.0000000000002274\n",
      "1.0000000000001137\n",
      "1.0000000000000568\n",
      "1.0000000000000284\n",
      "1.0000000000000142\n",
      "1.000000000000007\n",
      "1.0000000000000036\n",
      "1.0000000000000018\n",
      "1.0000000000000009\n",
      "1.0000000000000004\n",
      "1.0000000000000002\n",
      "i=52\n"
     ]
    }
   ],
   "source": [
    "# determine your machine's precision\n",
    "\n",
    "N = 100\n",
    "eps =1.0\n",
    "\n",
    "for i in range(N):\n",
    "    eps = eps/2\n",
    "    if 1+eps == 1:\n",
    "        print('i=%d' %(i))\n",
    "        break\n",
    "    else:\n",
    "        print(1+eps)"
   ]
  },
  {
   "cell_type": "code",
   "execution_count": 28,
   "metadata": {},
   "outputs": [
    {
     "name": "stdout",
     "output_type": "stream",
     "text": [
      "0.1000000000000000055511151231258 0.2000000000000000111022302462516 0.3000000000000000444089209850063 0.2999999999999999888977697537484\n",
      " the relative of the difference is  2.220446049250313e-16\n"
     ]
    }
   ],
   "source": [
    "# error in operations\n",
    "\n",
    "num1 = 0.1\n",
    "num2 = 0.2\n",
    "num3 = 0.3\n",
    "print(\"%.31f %.31f %.31f %.31f\"%(num1,num2, num1+num2, num3))\n",
    "print(\" the relative of the difference is \",abs((num1+num2)/num3-1))"
   ]
  },
  {
   "cell_type": "markdown",
   "metadata": {},
   "source": [
    "num1 = 0.2000000000001\n",
    "num2 = 0.2\n",
    "num3 = 0.0000000000001\n",
    "print(\"%.31f %.31f %.31f %.31f\"%(num1,num2, num1-num2, num3))\n",
    "print(\" the relative of the difference is \",abs((num1-num2)/num3-1))"
   ]
  },
  {
   "cell_type": "markdown",
   "metadata": {},
   "source": [
    "Homework\n",
    "\n",
    "1) Calculate and plot Fn/Fn-1 with n using memorization method"
   ]
  },
  {
   "cell_type": "code",
   "execution_count": 29,
   "metadata": {},
   "outputs": [
    {
     "data": {
      "text/plain": [
       "Text(0, 0.5, '$f_{n}/f_{n-1}$')"
      ]
     },
     "execution_count": 29,
     "metadata": {},
     "output_type": "execute_result"
    },
    {
     "data": {
      "image/png": "[encoded data removed]",
      "text/plain": [
       "<Figure size 432x288 with 1 Axes>"
      ]
     },
     "metadata": {
      "needs_background": "light"
     },
     "output_type": "display_data"
    }
   ],
   "source": [
    "from matplotlib import pyplot as plt\n",
    "%matplotlib inline\n",
    "N=15\n",
    "fn_ratio = np.zeros(N-2)\n",
    "table = [None]*(N+1)\n",
    "f50 = fib3(N, table)\n",
    "for i in range(2,N):\n",
    "    fn_ratio[i-2] = table[i]/table[i-1]\n",
    "plt.plot(np.arange(2,N),fn_ratio)\n",
    "plt.xlabel('n')\n",
    "plt.ylabel(r\"$f_{n}/f_{n-1}$\")"
   ]
  },
  {
   "cell_type": "markdown",
   "metadata": {},
   "source": [
    "•2) a) Use the iteration method, tabulation method,  and matrix method to calculate the time spent for different n (e.g. 1, 10, 100, 1000, 10000, ...uniform in the log space). \n",
    "\n",
    "b) For each method, output the time and n into a file\n",
    "\n",
    "c) Read from the file and plot log(time) (y-axis) vs. log(n) (x-axis) for different methods"
   ]
  },
  {
   "cell_type": "code",
   "execution_count": 40,
   "metadata": {},
   "outputs": [
    {
     "name": "stdout",
     "output_type": "stream",
     "text": [
      "--------n=10--------\n",
      "Iteration method: 0.0 seconds\n",
      "Tabulation method: 0.0 seconds\n",
      "Matrix method: 0.0 seconds\n",
      "--------n=100--------\n",
      "Iteration method: 0.0 seconds\n",
      "Tabulation method: 0.0 seconds\n",
      "Matrix method: 0.0 seconds\n",
      "--------n=1000--------\n",
      "Iteration method: 0.0 seconds\n",
      "Tabulation method: 0.0 seconds\n",
      "Matrix method: 0.0 seconds\n",
      "--------n=10000--------\n",
      "Iteration method: 0.0 seconds\n",
      "Tabulation method: 0.005984306335449219 seconds\n",
      "Matrix method: 0.0 seconds\n",
      "--------n=100000--------\n",
      "Iteration method: 0.0 seconds\n"
     ]
    },
    {
     "name": "stderr",
     "output_type": "stream",
     "text": [
      "C:\\Users\\luojiawei\\Anaconda3\\lib\\site-packages\\ipykernel_launcher.py:4: RuntimeWarning: overflow encountered in double_scalars\n",
      "  after removing the cwd from sys.path.\n"
     ]
    },
    {
     "name": "stdout",
     "output_type": "stream",
     "text": [
      "Tabulation method: 0.44386816024780273 seconds\n",
      "Matrix method: 0.0060024261474609375 seconds\n"
     ]
    }
   ],
   "source": [
    "import time\n",
    "logn = 6\n",
    "time_file = open('lect2.txt','w')\n",
    "for i in range(1,logn):\n",
    "    n = 10**i\n",
    "    print('--------n=%d--------' %(n))\n",
    "    start_time = time.time()\n",
    "    fib1(n)\n",
    "    time_calc = time.time() - start_time\n",
    "    time_file.write('iter %d %f\\n' %(n,time_calc))\n",
    "    print(\"Iteration method: %s seconds\" % (time_calc))\n",
    "    start_time = time.time()\n",
    "    fib4(n)\n",
    "    time_calc = time.time() - start_time\n",
    "    time_file.write('tab %d %f\\n' %(n,time_calc))\n",
    "    print(\"Tabulation method: %s seconds\" % (time_calc))\n",
    "    start_time = time.time()\n",
    "    fib5(n)\n",
    "    time_calc = time.time() - start_time\n",
    "    time_file.write('mat %d %f\\n' %(n,time_calc))\n",
    "    print(\"Matrix method: %s seconds\" % (time_calc))\n",
    "time_file.close()\n",
    "#Iteration method can't deal with logn>4"
   ]
  },
  {
   "cell_type": "code",
   "execution_count": 45,
   "metadata": {},
   "outputs": [
    {
     "name": "stdout",
     "output_type": "stream",
     "text": [
      "['iter', '10', '0.000000']\n",
      "['tab', '10', '0.000000']\n",
      "['mat', '10', '0.000000']\n",
      "['iter', '100', '0.000000']\n",
      "['tab', '100', '0.000000']\n",
      "['mat', '100', '0.000000']\n",
      "['iter', '1000', '0.000000']\n",
      "['tab', '1000', '0.000000']\n",
      "['mat', '1000', '0.000000']\n",
      "['iter', '10000', '0.000000']\n",
      "['tab', '10000', '0.005984']\n",
      "['mat', '10000', '0.000000']\n",
      "['iter', '100000', '0.000000']\n",
      "['tab', '100000', '0.443868']\n",
      "['mat', '100000', '0.006002']\n"
     ]
    },
    {
     "data": {
      "text/plain": [
       "Text(0, 0.5, 'time(seconds)')"
      ]
     },
     "execution_count": 45,
     "metadata": {},
     "output_type": "execute_result"
    },
    {
     "data": {
      "image/png": "[encoded data removed]",
      "text/plain": [
       "<Figure size 432x288 with 1 Axes>"
      ]
     },
     "metadata": {
      "needs_background": "light"
     },
     "output_type": "display_data"
    }
   ],
   "source": [
    "time_file = open('lect2.txt','r')\n",
    "iter_time = np.zeros(logn-1)\n",
    "tab_time = np.zeros(logn-1)\n",
    "mat_time = np.zeros(logn-1)\n",
    "for line in time_file.readlines():\n",
    "    line = line.split()\n",
    "    print(line)\n",
    "    method = line[0]\n",
    "    n = int(line[1])\n",
    "    calc_time = float(line[2])\n",
    "    if method == 'iter':\n",
    "        iter_time[int(np.log10(n))-1] = calc_time\n",
    "    elif method == 'tab':\n",
    "        tab_time[int(np.log10(n))-1] = calc_time\n",
    "    elif method == 'mat':\n",
    "        mat_time[int(np.log10(n))-1] = calc_time\n",
    "plt.plot(np.arange(1,logn),iter_time,label='iter')\n",
    "plt.plot(np.arange(1,logn),tab_time,label='tab')\n",
    "plt.plot(np.arange(1,logn),mat_time,label='mat')\n",
    "plt.legend()\n",
    "plt.xlabel('logn')\n",
    "plt.ylabel('time(seconds)')"
   ]
  }
 ],
 "metadata": {
  "kernelspec": {
   "display_name": "Python 3",
   "language": "python",
   "name": "python3"
  },
  "language_info": {
   "codemirror_mode": {
    "name": "ipython",
    "version": 3
   },
   "file_extension": ".py",
   "mimetype": "text/x-python",
   "name": "python",
   "nbconvert_exporter": "python",
   "pygments_lexer": "ipython3",
   "version": "3.7.1"
  }
 },
 "nbformat": 4,
 "nbformat_minor": 2
}
