{
 "cells": [
  {
   "cell_type": "markdown",
   "metadata": {},
   "source": [
    "# Physics 404/604\n",
    "\n",
    "## Computational Physics (Spring 2019)\n",
    "\n",
    "## BPB-250, Mon./Wed. 1:00-2:15 pm\n",
    "\n",
    "| Instructor | Prof. Zhaohuan Zhu                 |\n",
    "| ---------- | :--------------------------------- |\n",
    "| Email      | zhaohuan.zhu@unlv.edu              |\n",
    "| Website    | http://www.physics.unlv.edu/~zhzhu |\n",
    "| Office     | BPB 245                            |\n",
    "\n"
   ]
  },
  {
   "cell_type": "markdown",
   "metadata": {},
   "source": [
    "# Matrix Computing\n",
    "\n",
    "Matrix computing is used extensively in physics, engineering, math, ...\n",
    "\n",
    "## 1) Solve a system of linear equations\n",
    "\n",
    "\\begin{eqnarray}\n",
    "9x_{1}+13x_{2}+5x_{3}+2x_{4}=7\\\\\n",
    "x_{1}+11x_{2}+7x_{3}+6x_{4}=8\\\\\n",
    "3x_{1}+7x_{2}+4x_{3}+x_{4}=9\\\\\n",
    "6x_{1}+1x_{2}+7x_{3}+10x_{4}=10\n",
    "\\end{eqnarray}\n",
    "\n",
    "We can write the equations in the matrix form\n",
    "\\begin{equation}\n",
    "\\begin{bmatrix} 9 & 13 & 5 & 2 \\\\ \n",
    "          1 & 11 & 7 & 6 \\\\ \n",
    "          3 & 7 & 4 & 1 \\\\ \n",
    "          6 & 1 & 7 & 10\\end{bmatrix} \\left[ \\begin{array}{c} x_{1} \\\\ x_{2} \\\\ x_{3} \\\\ x_{4} \\end{array}\\right] = \\left[ \\begin{array}{c} 7 \\\\ 8 \\\\ 9 \\\\ 10 \\end{array}\\right]\n",
    "\\end{equation}\n",
    "\n",
    "\n",
    "Generally, \n",
    "\\begin{equation}\n",
    "A\\bf{x}=\\bf{b}\n",
    "\\end{equation}\n",
    "where A is known N$\\times$N matrix, $\\bf{x}$ is an unknown vector of length N, and $\\bf{b}$ is a known vector of length N.\n",
    "\n",
    "Several ways to solve it:   \n",
    "* solve it directly by Gaussian elimination or lower-upper (LU) decomposition  \n",
    "* invese A and $\\bf{x}=A^{-1}\\bf{b}$\n",
    "\n"
   ]
  },
  {
   "cell_type": "markdown",
   "metadata": {},
   "source": [
    "## Prerequisite: Use arrays\n",
    "\n",
    "Be careful with arrays \n",
    "\n",
    "1) track indices \n",
    "![From textbook](http://physics.oregonstate.edu/~landaur/Books/CPbook/eBook/Notebooks/HTML/Figs/Fig6_3.png)\n",
    "Row-major order used for matrix storage in Python, C and Java : \n",
    "a[3,3] (a[row, column])is stored as a[0,0], a[0,1], a[0,2], a[1,0], a[1,1], a[1,2], a[2,0], ...\n",
    "\n",
    "2) memory usage (4D array with 100 elements in each direction)"
   ]
  },
  {
   "cell_type": "code",
   "execution_count": 1,
   "metadata": {},
   "outputs": [
    {
     "name": "stdout",
     "output_type": "stream",
     "text": [
      "[[0 2]\n",
      " [1 3]]\n",
      "2\n"
     ]
    }
   ],
   "source": [
    "### we can use list to represent array\n",
    "a=[1,2,3]\n",
    "\n",
    "### but normally use Numpy package, has a lot more support for numerical arrays\n",
    "\n",
    "import numpy as np\n",
    "vector1 = np.array([1, 2, 3, 4, 5])\n",
    "matrix1 = np.array([[0,2],[1,3]])\n",
    "print(matrix1)\n",
    "\n",
    "# How to print the element at the first row and the second column\n",
    "print(matrix1[0,1])"
   ]
  },
  {
   "cell_type": "code",
   "execution_count": 2,
   "metadata": {},
   "outputs": [
    {
     "name": "stdout",
     "output_type": "stream",
     "text": [
      "[[0 4]\n",
      " [1 9]]\n"
     ]
    }
   ],
   "source": [
    "\n",
    "#Notice that * operation is element operation\n",
    "print(matrix1*matrix1)"
   ]
  },
  {
   "cell_type": "code",
   "execution_count": 3,
   "metadata": {},
   "outputs": [
    {
     "data": {
      "text/plain": [
       "array([ 0,  1,  2,  3,  4,  5,  6,  7,  8,  9, 10, 11])"
      ]
     },
     "execution_count": 3,
     "metadata": {},
     "output_type": "execute_result"
    }
   ],
   "source": [
    "import numpy as np\n",
    "np.arange(12)  # list of 12 ints"
   ]
  },
  {
   "cell_type": "code",
   "execution_count": 4,
   "metadata": {},
   "outputs": [
    {
     "data": {
      "text/plain": [
       "array([[ 0,  1,  2,  3],\n",
       "       [ 4,  5,  6,  7],\n",
       "       [ 8,  9, 10, 11]])"
      ]
     },
     "execution_count": 4,
     "metadata": {},
     "output_type": "execute_result"
    }
   ],
   "source": [
    "np.arange(12).reshape(3,4) # create, shape to 3x4 array (3 rows, 4 columns)"
   ]
  },
  {
   "cell_type": "code",
   "execution_count": 5,
   "metadata": {},
   "outputs": [
    {
     "data": {
      "text/plain": [
       "(3, 4)"
      ]
     },
     "execution_count": 5,
     "metadata": {},
     "output_type": "execute_result"
    }
   ],
   "source": [
    "a=np.arange(12).reshape(3,4)\n",
    "a.shape # shape "
   ]
  },
  {
   "cell_type": "code",
   "execution_count": 6,
   "metadata": {},
   "outputs": [
    {
     "data": {
      "text/plain": [
       "2"
      ]
     },
     "execution_count": 6,
     "metadata": {},
     "output_type": "execute_result"
    }
   ],
   "source": [
    "a.ndim # dimension"
   ]
  },
  {
   "cell_type": "code",
   "execution_count": 7,
   "metadata": {},
   "outputs": [
    {
     "data": {
      "text/plain": [
       "12"
      ]
     },
     "execution_count": 7,
     "metadata": {},
     "output_type": "execute_result"
    }
   ],
   "source": [
    "a.size # size of a (number of elements)"
   ]
  },
  {
   "cell_type": "code",
   "execution_count": 8,
   "metadata": {},
   "outputs": [
    {
     "data": {
      "text/plain": [
       "array([[ 0,  4,  8],\n",
       "       [ 1,  5,  9],\n",
       "       [ 2,  6, 10],\n",
       "       [ 3,  7, 11]])"
      ]
     },
     "execution_count": 8,
     "metadata": {},
     "output_type": "execute_result"
    }
   ],
   "source": [
    "a.T  # transpose method"
   ]
  },
  {
   "cell_type": "code",
   "execution_count": 9,
   "metadata": {},
   "outputs": [
    {
     "name": "stdout",
     "output_type": "stream",
     "text": [
      "[[0 1 2 3]\n",
      " [4 5 6 7]]\n",
      "[0.         0.         0.         1.         1.41421356 1.73205081\n",
      " 2.         0.         0.         0.        ]\n"
     ]
    }
   ],
   "source": [
    "# Slicing\n",
    "print(a[:2, :])  # 0:2 means 0 and 1, first two rows\n",
    "\n",
    "stuff= np.zeros(10, float) # one way to initialize an array\n",
    "t=np.arange(4)\n",
    "stuff[3:7]=np.sqrt(t+1) #notice that it can imput an array and output an array.\n",
    "print(stuff)"
   ]
  },
  {
   "cell_type": "code",
   "execution_count": 10,
   "metadata": {},
   "outputs": [
    {
     "name": "stdout",
     "output_type": "stream",
     "text": [
      "[3. 3. 3. 3. 3. 3. 3. 3. 3. 3.]\n"
     ]
    }
   ],
   "source": [
    "# initialize array with some value\n",
    "stuff= np.ones(10, float)*3.\n",
    "print(stuff)"
   ]
  },
  {
   "cell_type": "code",
   "execution_count": 11,
   "metadata": {},
   "outputs": [
    {
     "name": "stdout",
     "output_type": "stream",
     "text": [
      "[232. 218. 123. 213.]\n"
     ]
    }
   ],
   "source": [
    "# Write a program to carry out the dot product of matrix A and vector B\n",
    "import numpy as np\n",
    "a=np.array([[9.,13.,5.,2.],[1.,11.,7.,6.],[3.,7.,4.,1.],[6.,1.,7.,10.]])\n",
    "b=np.array([7.,8.,9.,10.])\n",
    "c=np.zeros(4)\n",
    "\n",
    "for i in range(4):\n",
    "    for j in range(4):\n",
    "        c[i] += a[i,j]*b[j]\n",
    "        # please finish this line\n",
    "print(c)"
   ]
  },
  {
   "cell_type": "markdown",
   "metadata": {},
   "source": [
    "### Several array products"
   ]
  },
  {
   "cell_type": "code",
   "execution_count": 12,
   "metadata": {},
   "outputs": [
    {
     "data": {
      "text/plain": [
       "array([232., 218., 123., 213.])"
      ]
     },
     "execution_count": 12,
     "metadata": {},
     "output_type": "execute_result"
    }
   ],
   "source": [
    "import numpy as np\n",
    "np.dot(a,b)"
   ]
  },
  {
   "cell_type": "code",
   "execution_count": 13,
   "metadata": {},
   "outputs": [
    {
     "name": "stdout",
     "output_type": "stream",
     "text": [
      "[[ 1.  3.]\n",
      " [ 3. 10.]]\n"
     ]
    }
   ],
   "source": [
    "# array can be float, complex types... \n",
    "# If you want matrix dot \n",
    "matrix1 = np.array([[0.,1.],[1.,3.]])\n",
    "print(np.dot(matrix1,matrix1))"
   ]
  },
  {
   "cell_type": "code",
   "execution_count": 14,
   "metadata": {},
   "outputs": [
    {
     "name": "stdout",
     "output_type": "stream",
     "text": [
      "[[0. 1.]\n",
      " [1. 9.]]\n"
     ]
    }
   ],
   "source": [
    "# if you want element product\n",
    "print(matrix1*matrix1)"
   ]
  },
  {
   "cell_type": "code",
   "execution_count": 15,
   "metadata": {
    "scrolled": true
   },
   "outputs": [
    {
     "name": "stdout",
     "output_type": "stream",
     "text": [
      "[[0. 1.]\n",
      " [1. 9.]]\n"
     ]
    }
   ],
   "source": [
    "#or\n",
    "print(np.multiply(matrix1,matrix1))"
   ]
  },
  {
   "cell_type": "markdown",
   "metadata": {},
   "source": [
    "## Use NumPy's linalg Package\n",
    "\n",
    "### Solve A$\\bf{x}$=$\\bf{b}$"
   ]
  },
  {
   "cell_type": "code",
   "execution_count": 16,
   "metadata": {},
   "outputs": [
    {
     "name": "stdout",
     "output_type": "stream",
     "text": [
      "[[  1.   2.   3.]\n",
      " [ 22.  32.  42.]\n",
      " [ 55.  66. 100.]] [1. 2. 3.]\n"
     ]
    }
   ],
   "source": [
    "import numpy as np\n",
    "A= np.array([[1.,2.,3.],[22.,32.,42],[55.,66.,100.]])\n",
    "b = np.array([1.,2.,3.])\n",
    "print(A,b)"
   ]
  },
  {
   "cell_type": "code",
   "execution_count": 17,
   "metadata": {},
   "outputs": [
    {
     "name": "stdout",
     "output_type": "stream",
     "text": [
      "x= [-1.4057971  -0.1884058   0.92753623]\n",
      "Residual=  [ 0.00000000e+00 -7.10542736e-15  0.00000000e+00]\n"
     ]
    }
   ],
   "source": [
    "# Method 1. Solve Ax=b directly\n",
    "x=np.linalg.solve(A,b)\n",
    "print('x=',x)\n",
    "print('Residual= ',np.dot(A,x)-b)"
   ]
  },
  {
   "cell_type": "code",
   "execution_count": 18,
   "metadata": {},
   "outputs": [
    {
     "name": "stdout",
     "output_type": "stream",
     "text": [
      "[-1.4057971  -0.1884058   0.92753623]\n"
     ]
    }
   ],
   "source": [
    "# Method 2. Solve Ax=b using the inversion of A\n",
    "B=np.linalg.inv(A)\n",
    "print(np.dot(B,b))"
   ]
  },
  {
   "cell_type": "code",
   "execution_count": 19,
   "metadata": {
    "scrolled": true
   },
   "outputs": [
    {
     "name": "stdout",
     "output_type": "stream",
     "text": [
      "x= [-1.4057971  -0.1884058   0.92753623]\n",
      "Residual=  [4.44089210e-16 0.00000000e+00 1.42108547e-14]\n"
     ]
    }
   ],
   "source": [
    "print('x=', np.dot(B,b))\n",
    "print('Residual= ',np.dot(A,np.dot(B,b))-b)"
   ]
  },
  {
   "cell_type": "code",
   "execution_count": 20,
   "metadata": {},
   "outputs": [
    {
     "name": "stdout",
     "output_type": "stream",
     "text": [
      "x= [-4. -5.  2.]\n",
      "Residual=  [0. 0. 0.]\n"
     ]
    }
   ],
   "source": [
    "# Use above two methods to solve 2y+z=-8, x-2y-3z=0, -x+y+2z=3\n",
    "A = np.array([[0,2,1],[1,-2,-3],[-1,1,2]])\n",
    "b = np.array([-8,0,3])\n",
    "x=np.linalg.solve(A,b)\n",
    "print('x=',x)\n",
    "print('Residual= ',np.dot(A,x)-b)"
   ]
  },
  {
   "cell_type": "markdown",
   "metadata": {},
   "source": [
    "## LU decomposition\n",
    "\n",
    "To solve Ax=b,   \n",
    "* to decompose A to A=L$\\cdot$U, where matrix L is lower triangular and matrix U is upper triangular\n",
    "* L $\\cdot$ (U $\\cdot$ x)=b, it is equivalent to L$\\cdot$y=b, U$\\cdot$x=y\n",
    "\n",
    "We define L as\n",
    "\n",
    "\\begin{bmatrix} 1 & 0 & 0 &... & 0 \\\\ \n",
    "          \\alpha_{21} & 1 &  0 &... & 0 \\\\\n",
    "          \\ddots & \\ddots & \\ddots\\\\\n",
    "          \\alpha_{i1} & ... & \\alpha_{i,i-1} & 1 & ... \\\\ \n",
    "          \\ddots & \\ddots & \\ddots & \\ddots \\\\\n",
    "          \\alpha_{n1} & ... & ... & ... & 1\\end{bmatrix} \n",
    "\n",
    "and U as\n",
    "\\begin{bmatrix} \\beta_{11} & \\beta_{12} & ... & \\beta_{1j} & ... \\\\ \n",
    "          0 & \\beta_{22} &  ... &... & ... \\\\\n",
    "          0  & 0 & \\ddots & \\ddots\\\\\n",
    "          0  & 0  & \\beta_{jj} & ... & ... \\\\ \n",
    "          0 & 0  & 0 & \\ddots \\\\\n",
    "          0 & 0 & 0  & 0 & \\beta_{nn}\\end{bmatrix} \n",
    "\n",
    "So we have\n",
    "\\begin{equation}\n",
    "a_{ij}=\\begin{cases} \\sum_{k=1}^{i-1}\\alpha_{ik}\\beta_{kj}+\\beta_{ij}  \\qquad i\\leq j,\\\\\n",
    "                          \\sum_{k=1}^{j-1}\\alpha_{ik}\\beta_{kj}+\\alpha_{ij}\\beta_{jj} \\qquad i> j, \\end{cases}\n",
    "\\end{equation}\n",
    "\n",
    "Or we have\n",
    "\\begin{eqnarray}\n",
    "\\beta_{ij}=a_{ij}-\\sum_{k=1}^{i-1}\\alpha_{ik}\\beta_{kj} \\qquad i=1,2,...j, \\quad j=1,...n\\\\\n",
    "\\alpha_{ij}=\\frac{1}{\\beta_{jj}}[a_{ij}-\\sum_{k=1}^{j-1}\\alpha_{ik}\\beta_{kj}] \\qquad i=j+1,...n\n",
    "\\end{eqnarray}\n",
    "\n",
    "The sequence to solve:   \n",
    "$\\beta_{11}$, $\\alpha_{21}$, ... ,$\\alpha_{n1}$,  \n",
    "$\\beta_{12}$, $\\beta_{22}$, $\\alpha_{32}$, ... ,$\\alpha_{n2}$,  \n",
    "$\\beta_{13}$, $\\beta_{23}$, $\\beta_{33}$, $\\alpha_{43}$, ... ,$\\alpha_{n3}$,  \n",
    "...\n",
    "\n",
    "What if $\\beta_{jj}$ is zero?  \n",
    "Needs pivoting: switch rows\n",
    "\n"
   ]
  },
  {
   "cell_type": "code",
   "execution_count": 21,
   "metadata": {},
   "outputs": [],
   "source": [
    "import numpy as np\n",
    "#============================================================================\n",
    "def LUFactor(a, ipivot, n):\n",
    "# Copy right, code from Titus textbook. \n",
    "#----------------------------------------------------------------------------\n",
    "#  Performs LU factorization of (n x n) matrix a (diag(L) = 1). On exit,\n",
    "#  replaces upper triangle and diagonal with U, and lower triangle, with L.\n",
    "#  Uses partial pivoting on columns.\n",
    "#  a      - coefficient matrix (n x n); LU decomposition on exit\n",
    "#  ipivot - array of pivot row indexes (output)\n",
    "#  det    - determinant of coefficient matrix (output).\n",
    "#----------------------------------------------------------------------------\n",
    "   det = 1e0\n",
    "   for j in range(n):                                 # loop over columns\n",
    "      for i in range(j):                             # elements of matrix U\n",
    "         sum = a[i][j]\n",
    "         for k in range(i): sum -= a[i][k]*a[k][j]\n",
    "         a[i][j] = sum\n",
    "\n",
    "      amax = 0e0\n",
    "      for i in range(j,n):                           # elements of matrix L\n",
    "         sum = a[i][j]                                 # undivided by pivot\n",
    "         for k in range(j): sum -= a[i][k]*a[k][j]\n",
    "         a[i][j] = sum\n",
    "                                                            # determine pivot\n",
    "         if (amax < np.fabs(a[i][j])): amax = np.fabs(a[i][j]); imax = i\n",
    "\n",
    "      if (amax == 0e0): print(\"LUFactor: singular matrix !\"); return 0e0\n",
    "\n",
    "      ipivot[j] = imax                                # store pivot row index\n",
    "                                                # interchange rows imax and j\n",
    "      if (imax != j):                           # to put pivot on diagonal\n",
    "         det = -det\n",
    "         for k in range(n):\n",
    "            t = a[imax][k]; a[imax][k] = a[j][k]; a[j][k] = t\n",
    "\n",
    "      det *= a[j][j]                        # multiply determinant with pivot\n",
    "\n",
    "      t = 1e0/a[j][j]                         # divide elements of L by pivot\n",
    "      for i in range(j+1,n): a[i][j] *= t\n",
    "\n",
    "   return det\n",
    "\n",
    "#============================================================================\n",
    "def LUSystem(a, ipivot, b, n):\n",
    "# Copy right, code from Titus textbook. \n",
    "#----------------------------------------------------------------------------\n",
    "#  Solves linear system a x = b of order n by LU factorization.\n",
    "#  a      - LU decomposition of coefficient matrix (returned by LUFactor)\n",
    "#  ipivot - array of pivot row indexes (input)\n",
    "#  b      - vector of constant terms (input); solution x (on exit)\n",
    "#----------------------------------------------------------------------------\n",
    "   for i in range(n):                                     # solves Ly = b\n",
    "      sum = b[int(ipivot[i])]\n",
    "      b[int(ipivot[i])] = b[i]\n",
    "      for j in range(i): sum -= a[i][j]*b[j]\n",
    "      b[i] = sum\n",
    "\n",
    "   for i in range(n-1,-1,-1):                                    # solves Ux = y\n",
    "      sum = b[i]\n",
    "      for j in range(i+1,n): sum -= a[i][j]*b[j]\n",
    "      b[i] = sum/a[i][i]\n"
   ]
  },
  {
   "cell_type": "code",
   "execution_count": 22,
   "metadata": {},
   "outputs": [
    {
     "name": "stdout",
     "output_type": "stream",
     "text": [
      "[ 0.1729798  -0.87689394  4.13194444 -1.9084596 ]\n",
      "[-3.55271368e-15 -1.77635684e-15 -1.77635684e-15 -7.10542736e-15]\n"
     ]
    }
   ],
   "source": [
    "import numpy as np\n",
    "a=np.array([[9.,13.,5.,2.],[1.,11.,7.,6.],[3.,7.,4.,1.],[6.,1.,7.,10.]])\n",
    "b=np.array([7.,8.,9.,10.])\n",
    "aa=np.copy(a)    #deep copy of an array\n",
    "bb=np.copy(b)    #deep copy of an array\n",
    "ipivot=np.zeros(4)\n",
    "de=LUFactor(a,ipivot,4)\n",
    "LUSystem(a,ipivot,b,4)\n",
    "print(b)\n",
    "\n",
    "print(np.dot(aa,b)-bb)"
   ]
  },
  {
   "cell_type": "code",
   "execution_count": 23,
   "metadata": {},
   "outputs": [
    {
     "name": "stdout",
     "output_type": "stream",
     "text": [
      "x= [ 0.1729798  -0.87689394  4.13194444 -1.9084596 ]\n",
      "[-3.55271368e-15  0.00000000e+00  0.00000000e+00  0.00000000e+00]\n"
     ]
    }
   ],
   "source": [
    "import numpy as np\n",
    "a=np.array([[9.,13.,5.,2.],[1.,11.,7.,6.],[3.,7.,4.,1.],[6.,1.,7.,10.]])\n",
    "b=np.array([7.,8.,9.,10.])\n",
    "\n",
    "# Solve Ax=b directly\n",
    "x=np.linalg.solve(a,b)\n",
    "print('x=',x)\n",
    "print(np.dot(a,x)-b)"
   ]
  },
  {
   "cell_type": "code",
   "execution_count": null,
   "metadata": {},
   "outputs": [],
   "source": []
  },
  {
   "cell_type": "markdown",
   "metadata": {},
   "source": [
    "## Gauss-Seidel Iterative Method\n",
    "\n",
    "Make a guess and do correction\n",
    "\n",
    "\\begin{eqnarray}\n",
    "a_{11}x_{1}+a_{12}x_{2}+...+a_{1n}x_{n}=b_{1}\\\\\n",
    "a_{21}x_{1}+a_{22}x_{2}+...+a_{2n}x_{n}=b_{2}\\\\\n",
    "...\\\\\n",
    "a_{n1}x_{1}+a_{n2}x_{2}+...+a_{nn}x_{n}=b_{n}\n",
    "\\end{eqnarray}\n",
    "\n",
    "We assume the diagonal elements $a_{jj}$ to be nonzero, or, we switch the equations to make them nonzero. We can rewrite it as\n",
    "\n",
    "\\begin{eqnarray}\n",
    "x_{1} = t_{1}+s_{12}x_{2}+...+s_{1n}x_{n}\\\\\n",
    "x_{2} = s_{21}x_{1}+t_{2}+...+s_{2n}x_{n}\\\\\n",
    "...\\\\\n",
    "x_{n} = s_{n1}x_{1}+s_{n2}x_{2}+...t_{n}\n",
    "\\end{eqnarray}\n",
    "So we can write it as the matrix form  \n",
    "$\\bf{x}$=S$\\bf{x}$+t  \n",
    "With initial guess $x^{(0)}=t$, we can build the solution using the recurrence relation  \n",
    "$\\bf{x^{(k)}}$=S$\\bf{x^{k-1}}$+t, k=1,2,...\n",
    "or\n",
    "\\begin{equation}\n",
    "x_{i}^{(k)}=\\sum_{j\\neq i}^{n}s_{ij}x_{j}^{(k-1)}+t_{i}\\qquad i=1,2,...,n\n",
    "\\end{equation}\n",
    "This is called Jacobi method. With a slight modification, we get a more efficient\n",
    "so-called Gauss-Seidel method:\n",
    "\\begin{equation}\n",
    "x_{i}^{(k)}=\\sum_{j=1}^{i-1}s_{ij}x_{j}^{(k)}+\\sum_{j=i+1}^{n}s_{ij}x_{j}^{(k-1)}+t_{i}\\qquad i=1,2,...,n\n",
    "\\end{equation}\n",
    "Use the most recently updated solution components $x_{i}^{k}$ instead of those from previous steps, as soon as they become available. \n",
    "\n",
    "The iteration stops when \n",
    "\\begin{equation}\n",
    "max_{i}|\\Delta_{i}^{(k)}/x_{i}^{k}|\\leq \\epsilon\n",
    "\\end{equation}\n",
    "\n",
    "Convergence: \n",
    "A must be strictly diagonally dominant \n",
    "\\begin{equation}\n",
    "|a_{ii}|>\\sum_{j\\neq i}|a_{ij}|,\\qquad i=1,2,...,n|\n",
    "\\end{equation}\n",
    "In reality, use\n",
    "\\begin{equation}\n",
    "|a_{ii}|>max_{j\\neq i}|a_{ij}|,\\qquad i=1,2,...,n|\n",
    "\\end{equation}\n",
    "There are situations that the solution won't converge.\n",
    "\n",
    "For normal system, having a symmetric positive-definite coefficient matrix,\n",
    "the Gauss-Seidel process is always converging. To make it a normal system\n",
    "\\begin{equation}\n",
    "A^{T}\\cdot A\\cdot x=A^{T}\\cdot b\n",
    "\\end{equation}"
   ]
  },
  {
   "cell_type": "code",
   "execution_count": 24,
   "metadata": {},
   "outputs": [],
   "source": [
    "\n",
    "#============================================================================\n",
    "def GaussSeidel(a, b, x, n, init):\n",
    "# Copy right, code from Titus textbook. \n",
    "#----------------------------------------------------------------------------\n",
    "#  Solves linear system a x = b by the Gauss-Seidel method.\n",
    "#  Convergence is ensure by left-multiplying the system with a^T.\n",
    "#  a    - coefficient matrix (n x n)\n",
    "#  b    - vector of constant terms\n",
    "#  x    - initial approximation of solution (input); solution (output)\n",
    "#  n    - order of system\n",
    "#  err  - maximum relative error of the solution components\n",
    "#  init - initialization option: 0 - refines initial approximation \n",
    "#                                1 - initializes solution\n",
    "#----------------------------------------------------------------------------\n",
    "   eps = 1e-15                                 # relative precision criterion\n",
    "   itmax = 10000                                    # max no. of iterations\n",
    "\n",
    "   s = [[0]*(n) for i in range(n)]           # matrices of reduced system\n",
    "   t = [0]*(n)\n",
    "\n",
    "   for i in range(n):                         # matrices of normal system\n",
    "      for j in range(i+1):                      # by multiplication with aT\n",
    "         s[i][j] = 0e0                            # store result in s and t\n",
    "         for k in range(n): s[i][j] += a[k][i]*a[k][j]\n",
    "         s[j][i] = s[i][j]\n",
    "\n",
    "      t[i] = 0e0\n",
    "      for j in range(n): t[i] += a[j][i]*b[j]\n",
    "\n",
    "   for i in range(n):                # matrices s and t of reduced system\n",
    "      f = -1e0/s[i][i]; t[i] /= s[i][i]\n",
    "      for j in range(n): s[i][j] *= f\n",
    "\n",
    "   if (init):\n",
    "      for i in range(n): x[i] = t[i]                # initialize solution\n",
    "\n",
    "   for k in range(itmax):                            # loop of iterations\n",
    "      err = 0e0\n",
    "      for i in range(n):\n",
    "         delta = t[i]                                            # correction\n",
    "         for j in range(n): delta += s[i][j]*x[j]\n",
    "         x[i] += delta                        # new approximation to solution\n",
    "         if (x[i]): delta /= x[i]                            # relative error\n",
    "         if (np.fabs(delta) > err): err = np.fabs(delta)            # maximum error\n",
    "       #  print('delta,err',delta,err)\n",
    "            \n",
    "      if (err <= eps): break                              # check convergence\n",
    "\n",
    "   if (k > itmax-2): print(\"GaussSeidel: max. no. of iterations exceeded !\")\n",
    "\n",
    "   return err"
   ]
  },
  {
   "cell_type": "code",
   "execution_count": 25,
   "metadata": {},
   "outputs": [
    {
     "name": "stdout",
     "output_type": "stream",
     "text": [
      "x= [ 0.1729798  -0.87689394  4.13194444 -1.9084596 ]\n",
      "[ 9.23705556e-14  6.75015599e-14 -2.27373675e-13 -3.01980663e-14]\n"
     ]
    }
   ],
   "source": [
    "import numpy as np\n",
    "a=np.array([[9.,13.,5.,2.],[1.,11.,7.,6.],[3.,7.,4.,1.],[6.,1.,7.,10.]])\n",
    "b=np.array([7.,8.,9.,10.])\n",
    "x=np.array([1.,1.,1.,1.])\n",
    "\n",
    "GaussSeidel(a, b, x, 4, 1)\n",
    "print('x=',x)\n",
    "print(np.dot(a,x)-b)"
   ]
  },
  {
   "cell_type": "markdown",
   "metadata": {},
   "source": [
    "### A bigger matrix\n",
    "\n",
    "\\begin{equation}\n",
    "[a_{ij}]=[1/(i+j+1)]=\\begin{bmatrix} 1 & 1/2 & 1/3 & ... & 1/100 \\\\ \n",
    "          1/2 & 1/3 & 1/4 & ... & 1/101 \\\\ \n",
    "          \\ddots \\\\ \n",
    "          1/100 & 1/101 & ... & ...& 1/199\\end{bmatrix}\n",
    "\\end{equation}\n",
    "\n",
    "\\begin{equation}\n",
    "[b_{i}]=[1/(i+1)]=\\left[ \\begin{array}{c} 1 \\\\ 1/2 \\\\ 1/3 \\\\ ... \\\\ 1/100 \\end{array}\\right] \n",
    "\\end{equation}\n",
    "\n",
    "Now we want to solve Ax=b"
   ]
  },
  {
   "cell_type": "code",
   "execution_count": 26,
   "metadata": {},
   "outputs": [
    {
     "name": "stdout",
     "output_type": "stream",
     "text": [
      "x= [ 1.  0.  0.  0.  0.  0.  0.  0. -0. -0. -0.  0.  0.  0. -0.  0. -0. -0.\n",
      "  0. -0.  0.  0.  0. -0.  0.  0. -0.  0.  0. -0. -0.  0.  0. -0. -0. -0.\n",
      "  0. -0.  0.  0. -0. -0.  0.  0.  0.  0.  0. -0.  0. -0.  0. -0.  0.  0.\n",
      "  0. -0.  0.  0.  0. -0.  0.  0.  0.  0.  0.  0.  0. -0. -0. -0.  0.  0.\n",
      " -0.  0. -0.  0. -0.  0.  0.  0.  0.  0. -0.  0. -0. -0. -0. -0.  0. -0.\n",
      "  0.  0. -0.  0.  0.  0. -0. -0.  0.  0.]\n",
      "Time  0.011967658996582031\n",
      "GaussSeidel: max. no. of iterations exceeded !\n",
      "x= [ 1.0297499  -0.04694805 -0.26420505  0.32845104  1.          1.\n",
      "  1.          1.          1.          1.          1.          1.\n",
      "  1.          1.          1.          1.          1.          1.\n",
      "  1.          1.          1.          1.          1.          1.\n",
      "  1.          1.          1.          1.          1.          1.\n",
      "  1.          1.          1.          1.          1.          1.\n",
      "  1.          1.          1.          1.          1.          1.\n",
      "  1.          1.          1.          1.          1.          1.\n",
      "  1.          1.          1.          1.          1.          1.\n",
      "  1.          1.          1.          1.          1.          1.\n",
      "  1.          1.          1.          1.          1.          1.\n",
      "  1.          1.          1.          1.          1.          1.\n",
      "  1.          1.          1.          1.          1.          1.\n",
      "  1.          1.          1.          1.          1.          1.\n",
      "  1.          1.          1.          1.          1.          1.\n",
      "  1.          1.          1.          1.          1.          1.\n",
      "  1.          1.          1.          1.        ]\n",
      "Time  0.1685791015625\n",
      "x= [-0.8237111   1.51006366  0.49787809  0.61087963  0.2         0.16666667\n",
      "  0.14285714  0.125       0.11111111  0.1         0.09090909  0.08333333\n",
      "  0.07692308  0.07142857  0.06666667  0.0625      0.05882353  0.05555556\n",
      "  0.05263158  0.05        0.04761905  0.04545455  0.04347826  0.04166667\n",
      "  0.04        0.03846154  0.03703704  0.03571429  0.03448276  0.03333333\n",
      "  0.03225806  0.03125     0.03030303  0.02941176  0.02857143  0.02777778\n",
      "  0.02702703  0.02631579  0.02564103  0.025       0.02439024  0.02380952\n",
      "  0.02325581  0.02272727  0.02222222  0.02173913  0.0212766   0.02083333\n",
      "  0.02040816  0.02        0.01960784  0.01923077  0.01886792  0.01851852\n",
      "  0.01818182  0.01785714  0.01754386  0.01724138  0.01694915  0.01666667\n",
      "  0.01639344  0.01612903  0.01587302  0.015625    0.01538462  0.01515152\n",
      "  0.01492537  0.01470588  0.01449275  0.01428571  0.01408451  0.01388889\n",
      "  0.01369863  0.01351351  0.01333333  0.01315789  0.01298701  0.01282051\n",
      "  0.01265823  0.0125      0.01234568  0.01219512  0.01204819  0.01190476\n",
      "  0.01176471  0.01162791  0.01149425  0.01136364  0.01123596  0.01111111\n",
      "  0.01098901  0.01086957  0.01075269  0.0106383   0.01052632  0.01041667\n",
      "  0.01030928  0.01020408  0.01010101  0.01      ]\n",
      "Time  0.0\n"
     ]
    }
   ],
   "source": [
    "import numpy as np\n",
    "import time\n",
    "N=100\n",
    "A=np.zeros((N,N),float)\n",
    "B=np.zeros(N,float)\n",
    "for i in range(N):\n",
    "    for j in range(N):\n",
    "        A[i,j]=1./(i+j+1.)\n",
    "        \n",
    "for i in range(N):\n",
    "    B[i]=1./(i+1)\n",
    "\n",
    "start = time.time()\n",
    "# write one line of code to solve Ax=B using linalg package \n",
    "x=np.linalg.solve(A,B)\n",
    "end = time.time()\n",
    "print('x=',x)\n",
    "print('Time ',end-start)\n",
    "\n",
    "x=np.ones(N)\n",
    "start2 = time.time()\n",
    "GaussSeidel(A, B, x, 4, 1)\n",
    "# write one line of code to solve Ax=B using Gauss-Siedel method \n",
    "\n",
    "end2 = time.time()\n",
    "print('x=',x)\n",
    "print('Time ',end2-start2)\n",
    "\n",
    "ipivot=np.zeros(N)\n",
    "start3 = time.time()\n",
    "LUSystem(A,ipivot,B,4)\n",
    "# write two lines of code to solve Ax=B with LU decomposition\n",
    "\n",
    "\n",
    "end3 = time.time()\n",
    "print('x=',B)\n",
    "print('Time ',end3-start3)"
   ]
  },
  {
   "cell_type": "code",
   "execution_count": null,
   "metadata": {},
   "outputs": [],
   "source": []
  },
  {
   "cell_type": "markdown",
   "metadata": {},
   "source": [
    "## Two masses on a string problem:\n",
    "\n",
    "The problem is from the textbook \"COMPUTATIONAL PHYSICS\", 3rd Ed, by RH Landau, MJ Paez, and CC Bordeianu\n",
    "\n",
    "Very hard to solve analytically.\n",
    "\n",
    "Write down the equations, and we have 9 variables (treat sin, cos as variables), and 9 nonlinear equations.\n",
    "\n",
    "\\begin{equation}\n",
    "f_{i}(x_{1},x_{2},...,x_{N})=0, \\qquad i=1,2,....,N\n",
    "\\end{equation}\n",
    "\n",
    "\\begin{equation}\n",
    "f(y)=\\left[ \\begin{array}{c} f_{1}(\\bf{y}) \\\\ f_{2}(\\bf{y}) \\\\ f_{3}(\\bf{y}) \\\\ f_{4}(\\bf{y}) \\\\ f_{5}(\\bf{y}) \\\\ f_{6}(\\bf{y}) \\\\ f_{7}(\\bf{y}) \\\\ f_{8}(\\bf{y}) \\\\ f_{9}(\\bf{y}) \\end{array}\\right] = \\left[ \\begin{array}{c} 3x_{4}+4 x_{5} +4 x_{6} - 8 \\\\ 3 x_{1}+4 x_{2} -4 x_{3} \\\\ x_{7}x_{1} - x_{8} x_{2} -10 \\\\ x_{7}x_{4} - x_{8} x_{5} \\\\ x_{8}x_{2} + x_{9}x_{3} -20 \\\\ x_{8}x_{5}-x_{9}x_{6} \\\\ x_{1}^2+x_{4}^2-1 \\\\ x_{2}^2+x_{5}^2-1 \\\\ x_{3}^2+x_{6}^2-1 \\end{array}\\right] =0 \n",
    "\\end{equation}\n",
    "\n",
    "Make a guess ($x_{1},...x_{9}$), and then correct it ($\\Delta x_{1},...,\\Delta x_{9}$), we have\n",
    "\\begin{equation}\n",
    "f_{i}(x_{1}+\\Delta x_{1}, x_{2}+\\Delta x_{2}, ..., x_{9}+\\Delta x_{9})=0 \\qquad, i=1,...,9\n",
    "\\end{equation}\n",
    "We can expand it using Taylor series\n",
    "\\begin{equation}\n",
    "f_{i}(x_{1}+\\Delta x_{1}, x_{2}+\\Delta x_{2}, ..., x_{9}+\\Delta x_{9})\\simeq f_{i}(x_{1},...,x_{9})+\\sum_{j=1}^{9}\\frac{\\partial f_{i}}{\\partial x_{j}}\\Delta x_{j}=0 \\qquad i=1,...,9\n",
    "\\end{equation}\n",
    "\n",
    "\\begin{equation}\n",
    "\\left[ \\begin{array}{c} f_{1}\\\\ f_{2}\\\\ \\ddots \\\\ f_{9} \\end{array}\\right] + \\begin{bmatrix} \\partial f_{1}/\\partial x_{1} & \\partial f_{1}/\\partial x_{2} & ... & \\partial f_{1}/\\partial x_{9} \\\\ \\partial f_{2}/\\partial x_{1} & \\partial f_{2}/\\partial x_{2} & ... & \\partial f_{2}/\\partial x_{9} \\\\ \\ddots \\\\ \\partial f_{9}/\\partial x_{1} & \\partial f_{9}/\\partial x_{2} & ... & \\partial f_{9}/\\partial x_{9}\\end{bmatrix}\\left[ \\begin{array}{c} \\Delta x_{1} \\\\ \\Delta x_{2} \\\\ \\ddots \\\\ \\Delta x_{9} \\end{array}\\right] =0 \n",
    "\\end{equation}\n",
    "\n",
    "So we want to solve the matrix equation\n",
    "\\begin{equation}\n",
    "F'\\Delta {\\bf{x}}=-\\bf{f}\n",
    "\\end{equation}\n",
    "Here we use bold font for a vector, the captal letter to represent a matrix"
   ]
  },
  {
   "cell_type": "code",
   "execution_count": 27,
   "metadata": {
    "scrolled": false
   },
   "outputs": [
    {
     "ename": "ModuleNotFoundError",
     "evalue": "No module named 'vpython'",
     "output_type": "error",
     "traceback": [
      "\u001b[1;31m---------------------------------------------------------------------------\u001b[0m",
      "\u001b[1;31mModuleNotFoundError\u001b[0m                       Traceback (most recent call last)",
      "\u001b[1;32m<ipython-input-27-a2c9dcda1ff5>\u001b[0m in \u001b[0;36m<module>\u001b[1;34m\u001b[0m\n\u001b[0;32m      7\u001b[0m \u001b[1;31m# NewtonNDanimate.py:      MultiDimension Newton Search\u001b[0m\u001b[1;33m\u001b[0m\u001b[1;33m\u001b[0m\u001b[1;33m\u001b[0m\u001b[0m\n\u001b[0;32m      8\u001b[0m \u001b[1;32mfrom\u001b[0m \u001b[0mnumpy\u001b[0m \u001b[1;32mimport\u001b[0m \u001b[1;33m*\u001b[0m\u001b[1;33m\u001b[0m\u001b[1;33m\u001b[0m\u001b[0m\n\u001b[1;32m----> 9\u001b[1;33m \u001b[1;32mfrom\u001b[0m \u001b[0mvpython\u001b[0m \u001b[1;32mimport\u001b[0m \u001b[1;33m*\u001b[0m\u001b[1;33m\u001b[0m\u001b[1;33m\u001b[0m\u001b[0m\n\u001b[0m\u001b[0;32m     10\u001b[0m \u001b[1;32mfrom\u001b[0m \u001b[0mnumpy\u001b[0m\u001b[1;33m.\u001b[0m\u001b[0mlinalg\u001b[0m \u001b[1;32mimport\u001b[0m \u001b[0msolve\u001b[0m\u001b[1;33m\u001b[0m\u001b[1;33m\u001b[0m\u001b[0m\n\u001b[0;32m     11\u001b[0m \u001b[1;33m\u001b[0m\u001b[0m\n",
      "\u001b[1;31mModuleNotFoundError\u001b[0m: No module named 'vpython'"
     ]
    }
   ],
   "source": [
    "\"\"\" From \"COMPUTATIONAL PHYSICS\", 3rd Ed, Enlarged Python eTextBook  \n",
    "    by RH Landau, MJ Paez, and CC Bordeianu\n",
    "    Copyright Wiley-VCH Verlag GmbH & Co. KGaA, Berlin;  Copyright R Landau,\n",
    "    Oregon State Unv, MJ Paez, Univ Antioquia, C Bordeianu, Univ Bucharest, 2015.\n",
    "    Support by National Science Foundation\"\"\"\n",
    "\n",
    "# NewtonNDanimate.py:      MultiDimension Newton Search\n",
    "from numpy import *\n",
    "from vpython import *\n",
    "from numpy.linalg import solve\n",
    "\n",
    "\n",
    "scene = canvas(title='String and masses configuration',\n",
    "     width=500, height=500) # set the camera\n",
    "\n",
    "tempe = curve(x=range(0,500),color=color.black)\n",
    "\n",
    "n = 9\n",
    "eps = 1e-3\n",
    "deriv = zeros( (n, n), float)\n",
    "f = zeros( (n), float)\n",
    "x = array([0.5, 0.5, 0.5, 0.5, 0.5, 0.5, 0.5, 1., 1., 1.])\n",
    "\n",
    "def plotconfig():\n",
    "    for obj in scene.objects:\n",
    "        obj.visible=0                  # Erase previous configuration\n",
    "    L1 = 3.0\n",
    "    L2 = 4.0\n",
    "    L3 = 4.0\n",
    "    xa = L1*x[3]                # L1*cos(th1)\n",
    "    ya = L1*x[0]                # L1 sin(th1)\n",
    "    xb = xa+L2*x[4]             # L1*cos(th1)+L2*cos(th2)\n",
    "    yb = ya+L2*x[1]             # L1*sin(th1)+L2*sen(th2)\n",
    "    xc = xb+L3*x[5]             # L1*cos(th1)+L2*cos(th2)+L3*cos(th3)\n",
    "    yc = yb-L3*x[2]             # L1*sin(th1)+L2*sen(th2)-L3*sin(th3)\n",
    "    mx = 100.0                  # for linear coordinate transformation\n",
    "    bx = -500.0                 # from 0=< x =<10\n",
    "    my = -100.0                 # to    -500 =<x_window=>500\n",
    "    by = 400.0                  # same transformation for y\n",
    "    xap = mx*xa+bx              # to keep aspect ratio\n",
    "    yap = my*ya+by\n",
    "    ball1 = sphere(pos=vector(xap,yap,0), color=color.cyan,radius=15) \n",
    "    xbp = mx*xb+bx\n",
    "    ybp = my*yb+by\n",
    "    ball2 = sphere(pos=vector(xbp,ybp,0), color=color.cyan,radius=25) \n",
    "    xcp = mx*xc+bx\n",
    "    ycp = my*yc+by\n",
    "    x0 = mx*0+bx\n",
    "    y0 = my*0+by\n",
    "    line1 = curve(pos=[vector(x0,y0,0),vector(xap,yap,0)], color=color.yellow,radius=4)\n",
    "    line2 = curve(pos=[vector(xap,yap,0),vector(xbp,ybp,0)], color=color.yellow,radius=4)\n",
    "    line3 = curve(pos=[vector(xbp,ybp,0),vector(xcp,ycp,0)], color=color.yellow,radius=4)\n",
    "    topline = curve(pos=[vector(x0,y0,0),vector(xcp,ycp,0)], color=color.red,radius=4)\n",
    "\n",
    "def F(x, f):                                       # F function\n",
    "    f[0] = 3*x[3]  +  4*x[4]  +  4*x[5]  -  8.0\n",
    "    f[1] = 3*x[0]  +  4*x[1]  -  4*x[2]\n",
    "    f[2] = x[6]*x[0]  -  x[7]*x[1]  -  10.0\n",
    "    f[3] = x[6]*x[3]  -  x[7]*x[4]\n",
    "    f[4] = x[7]*x[1]  +  x[8]*x[2]  -  20.0\n",
    "    f[5] = x[7]*x[4]  -  x[8]*x[5]\n",
    "    f[6] = pow(x[0], 2)  +  pow(x[3], 2)  -  1.0\n",
    "    f[7] = pow(x[1], 2)  +  pow(x[4], 2)  -  1.0\n",
    "    f[8] = pow(x[2], 2)  +  pow(x[5], 2)  -  1.0\n",
    "    \n",
    "def dFi_dXj(x, deriv, n):                           # Derivatives\n",
    "    h = 1e-4                                             \n",
    "    for j in range(0, n):\n",
    "         temp = x[j]\n",
    "         x[j] = x[j] +  h/2.\n",
    "         F(x, f)                                                 \n",
    "         for i in range(0, n):  deriv[i, j] = f[i] \n",
    "         x[j] = temp\n",
    "    for j in range(0, n):\n",
    "         temp = x[j]\n",
    "         x[j] = x[j] - h/2.\n",
    "         F(x, f)\n",
    "         for i in range(0, n): deriv[i, j] = (deriv[i, j] - f[i])/h\n",
    "         x[j] = temp\n",
    "         \n",
    "for it in range(1, 100):\n",
    "      rate(1)                            # 1 second between graphs\n",
    "      F(x, f)                              \n",
    "      dFi_dXj(x, deriv, n)   \n",
    "      B = array([[-f[0]], [-f[1]], [-f[2]], [-f[3]], [-f[4]], [-f[5]],\\\n",
    "\t\t\t[-f[6]], [-f[7]], [-f[8]]])      \n",
    "      sol = solve(deriv, B)\n",
    "      dx = sol#take(sol, (0, ), 1)               # First column of sol\n",
    "      for i in range(0, n):\n",
    "        x[i]  = x[i]  +  dx[i]\n",
    "      plotconfig()\n",
    "      errX = errF = errXi = 0.0\n",
    "      endi=0\n",
    "      for i in range(0, n):\n",
    "        if ( x[i] !=  0.): errXi = abs(dx[i]/x[i])\n",
    "        else:  errXi = abs(dx[i])\n",
    "        if ( errXi > errX): errX = errXi                            \n",
    "        if ( abs(f[i]) > errF ):  errF = abs(f[i])        \n",
    "        if ( (errX <=  eps) and (errF <=  eps) ): endi=1\n",
    "      if(endi==1): break  \n",
    "      \n",
    "print('Number of iterations = ', it, \"\\n Final Solution:\")\n",
    "for i in range(0, n):\n",
    "        print('x[', i, '] =  ', x[i])"
   ]
  },
  {
   "cell_type": "code",
   "execution_count": 28,
   "metadata": {},
   "outputs": [
    {
     "ename": "ModuleNotFoundError",
     "evalue": "No module named 'vpython'",
     "output_type": "error",
     "traceback": [
      "\u001b[1;31m---------------------------------------------------------------------------\u001b[0m",
      "\u001b[1;31mModuleNotFoundError\u001b[0m                       Traceback (most recent call last)",
      "\u001b[1;32m<ipython-input-28-709ab26b3af8>\u001b[0m in \u001b[0;36m<module>\u001b[1;34m\u001b[0m\n\u001b[0;32m      7\u001b[0m \u001b[1;31m# NewtonNDanimate.py:      MultiDimension Newton Search\u001b[0m\u001b[1;33m\u001b[0m\u001b[1;33m\u001b[0m\u001b[1;33m\u001b[0m\u001b[0m\n\u001b[0;32m      8\u001b[0m \u001b[1;32mfrom\u001b[0m \u001b[0mnumpy\u001b[0m \u001b[1;32mimport\u001b[0m \u001b[1;33m*\u001b[0m\u001b[1;33m\u001b[0m\u001b[1;33m\u001b[0m\u001b[0m\n\u001b[1;32m----> 9\u001b[1;33m \u001b[1;32mfrom\u001b[0m \u001b[0mvpython\u001b[0m \u001b[1;32mimport\u001b[0m \u001b[1;33m*\u001b[0m\u001b[1;33m\u001b[0m\u001b[1;33m\u001b[0m\u001b[0m\n\u001b[0m\u001b[0;32m     10\u001b[0m \u001b[1;32mfrom\u001b[0m \u001b[0mnumpy\u001b[0m\u001b[1;33m.\u001b[0m\u001b[0mlinalg\u001b[0m \u001b[1;32mimport\u001b[0m \u001b[0msolve\u001b[0m\u001b[1;33m\u001b[0m\u001b[1;33m\u001b[0m\u001b[0m\n\u001b[0;32m     11\u001b[0m \u001b[1;33m\u001b[0m\u001b[0m\n",
      "\u001b[1;31mModuleNotFoundError\u001b[0m: No module named 'vpython'"
     ]
    }
   ],
   "source": [
    "\"\"\" From \"COMPUTATIONAL PHYSICS\", 3rd Ed, Enlarged Python eTextBook  \n",
    "    by RH Landau, MJ Paez, and CC Bordeianu\n",
    "    Copyright Wiley-VCH Verlag GmbH & Co. KGaA, Berlin;  Copyright R Landau,\n",
    "    Oregon State Unv, MJ Paez, Univ Antioquia, C Bordeianu, Univ Bucharest, 2015.\n",
    "    Support by National Science Foundation\"\"\"\n",
    "\n",
    "# NewtonNDanimate.py:      MultiDimension Newton Search\n",
    "from numpy import *\n",
    "from vpython import *\n",
    "from numpy.linalg import solve\n",
    "\n",
    "\n",
    "scene = canvas(title='String and masses configuration',\n",
    "     width=500, height=500) # set the camera\n",
    "\n",
    "tempe = curve(x=range(0,500),color=color.black)\n",
    "\n",
    "n = 9\n",
    "eps = 1e-3\n",
    "deriv = zeros( (n, n), float)\n",
    "f = zeros( (n), float)\n",
    "x = array([0.5, 0.5, 0.5, 0.5, 0.5, 0.5, 0.5, 1., 1., 1.])\n",
    "\n",
    "def plotconfig(a):\n",
    "    for obj in scene.objects:\n",
    "        obj.visible=0                  # Erase previous configuration\n",
    "    L1 = 3.0\n",
    "    L2 = a\n",
    "    L3 = 4.0\n",
    "    xa = L1*x[3]                # L1*cos(th1)\n",
    "    ya = L1*x[0]                # L1 sin(th1)\n",
    "    xb = xa+L2*x[4]             # L1*cos(th1)+L2*cos(th2)\n",
    "    yb = ya+L2*x[1]             # L1*sin(th1)+L2*sen(th2)\n",
    "    xc = xb+L3*x[5]             # L1*cos(th1)+L2*cos(th2)+L3*cos(th3)\n",
    "    yc = yb-L3*x[2]             # L1*sin(th1)+L2*sen(th2)-L3*sin(th3)\n",
    "    mx = 100.0                  # for linear coordinate transformation\n",
    "    bx = -500.0                 # from 0=< x =<10\n",
    "    my = -100.0                 # to    -500 =<x_window=>500\n",
    "    by = 400.0                  # same transformation for y\n",
    "    xap = mx*xa+bx              # to keep aspect ratio\n",
    "    yap = my*ya+by\n",
    "    ball1 = sphere(pos=vector(xap,yap,0), color=color.cyan,radius=15) \n",
    "    print(xap,yap)\n",
    "    xbp = mx*xb+bx\n",
    "    ybp = my*yb+by\n",
    "    ball2 = sphere(pos=vector(xbp,ybp,0), color=color.cyan,radius=25) \n",
    "    xcp = mx*xc+bx\n",
    "    ycp = my*yc+by\n",
    "    x0 = mx*0+bx\n",
    "    y0 = my*0+by\n",
    "    line1 = curve(pos=[vector(x0,y0,0),vector(xap,yap,0)], color=color.yellow,radius=4)\n",
    "    line2 = curve(pos=[vector(xap,yap,0),vector(xbp,ybp,0)], color=color.yellow,radius=4)\n",
    "    line3 = curve(pos=[vector(xbp,ybp,0),vector(xcp,ycp,0)], color=color.yellow,radius=4)\n",
    "    topline = curve(pos=[vector(x0,y0,0),vector(xcp,ycp,0)], color=color.red,radius=4)\n",
    "\n",
    "def F(x, f, a):                                       # F function\n",
    "    f[0] = 3*x[3]  +  a*x[4]  +  4*x[5]  -  8.0\n",
    "    f[1] = 3*x[0]  +  a*x[1]  -  4*x[2]\n",
    "    f[2] = x[6]*x[0]  -  x[7]*x[1]  -  10.0\n",
    "    f[3] = x[6]*x[3]  -  x[7]*x[4]\n",
    "    f[4] = x[7]*x[1]  +  x[8]*x[2]  -  20.0\n",
    "    f[5] = x[7]*x[4]  -  x[8]*x[5]\n",
    "    f[6] = pow(x[0], 2)  +  pow(x[3], 2)  -  1.0\n",
    "    f[7] = pow(x[1], 2)  +  pow(x[4], 2)  -  1.0\n",
    "    f[8] = pow(x[2], 2)  +  pow(x[5], 2)  -  1.0\n",
    "    \n",
    "def dFi_dXj(x, deriv, n, a):                           # Derivatives\n",
    "    h = 1e-4                                             \n",
    "    for j in range(0, n):\n",
    "         temp = x[j]\n",
    "         x[j] = x[j] +  h/2.\n",
    "         F(x, f, a)                                                 \n",
    "         for i in range(0, n):  deriv[i, j] = f[i] \n",
    "         x[j] = temp\n",
    "    for j in range(0, n):\n",
    "         temp = x[j]\n",
    "         x[j] = x[j] - h/2.\n",
    "         F(x, f, a)\n",
    "         for i in range(0, n): deriv[i, j] = (deriv[i, j] - f[i])/h\n",
    "         x[j] = temp\n",
    "         \n",
    "for a in arange(2.,10.,0.1):\n",
    "  for it in range(1, 100):\n",
    "      rate(10)                    # 1 second between graphs\n",
    "      F(x, f, a )                              \n",
    "      dFi_dXj(x, deriv, n, a)   \n",
    "      B = array([[-f[0]], [-f[1]], [-f[2]], [-f[3]], [-f[4]], [-f[5]],\\\n",
    "\t\t\t[-f[6]], [-f[7]], [-f[8]]])      \n",
    "      sol = solve(deriv, B)\n",
    "      dx = sol#take(sol, (0, ), 1)               # First column of sol\n",
    "      for i in range(0, n):\n",
    "        x[i]  = x[i]  +  dx[i]\n",
    "      errX = errF = errXi = 0.0\n",
    "      endi=0\n",
    "      for i in range(0, n):\n",
    "        if ( x[i] !=  0.): errXi = abs(dx[i]/x[i])\n",
    "        else:  errXi = abs(dx[i])\n",
    "        if ( errXi > errX): errX = errXi                            \n",
    "        if ( abs(f[i]) > errF ):  errF = abs(f[i])        \n",
    "        if ( (errX <=  eps) and (errF <=  eps) ): endi=1\n",
    "      if(endi==1): break   \n",
    "  plotconfig(a)\n",
    "\n",
    "print('Number of iterations = ', it, \"\\n Final Solution:\")\n",
    "for i in range(0, n):\n",
    "        print('x[', i, '] =  ', x[i])"
   ]
  },
  {
   "cell_type": "markdown",
   "metadata": {},
   "source": [
    "\n",
    "\n",
    "\n",
    "## 2) Solve the eigenvalue problem\n",
    "\\begin{equation}\n",
    "A\\bf{x}=\\lambda\\bf{x}\n",
    "\\end{equation}\n",
    "where $\\bf{x}$ is an unknown vector and $\\lambda$ is an unknown parameter. Using the above method won't work since we have unknowns on both sides of the equation.\n",
    "\n",
    "This is harder to solve, since the solution only exists for certain, if any, values of $\\lambda$. We manipulate the equation\n",
    "\\begin{equation}\n",
    "[A-\\lambda I]\\bf{x}=0\n",
    "\\end{equation}\n",
    "If $[A-\\lambda I]^{-1}$ exists, it leads to the trivial solution $\\bf{x}=0$. The inverse of $[A-\\lambda I]$ fails to exists if \n",
    "\\begin{equation}\n",
    "det[A-\\lambda I]=0\n",
    "\\end{equation}\n",
    "The $\\lambda$ values satisfie this equation are the eigenvalues.  If you are only interested in eigenvalues, you need to calculate the determinant first and search $\\lambda$ to make the equation equal 0.  \n",
    "\n",
    "The traditional way to solve both the eigenvalues and the eigenvectors is diagonalization. Gradually change A to a diagonal \n",
    "\\begin{equation}\n",
    "UAU^{-1}=\\begin{bmatrix} \\lambda^{'}_{1} & 0 & ... &0 \\\\ 0 & \\lambda^{'}_{2} & ... & 0 \\\\ 0 & 0 & \\lambda^{'}_{3} & ... \\\\ 0 & ... &0 &\\lambda^{'}_{N} \\end{bmatrix}\n",
    "\\end{equation}\n",
    "\\begin{equation}\n",
    "UA(U^{-1}U)\\bf{x}=\\lambda U\\bf{x}\n",
    "\\end{equation}\n",
    "\\begin{equation}\n",
    "\\begin{bmatrix} \\lambda^{'}_{1} & 0 & ... &0 \\\\ 0 & \\lambda^{'}_{2} & ... & 0 \\\\ 0 & 0 & \\lambda^{'}_{3} & ... \\\\ 0 & ... &0 &\\lambda^{'}_{N} \\end{bmatrix} U\\bf{x} = \\lambda U\\bf{x}\n",
    "\\end{equation}\n",
    "The first eigenvalue is $\\lambda^{'}_{1}$ and the first eigenvector (U$\\bf{x}$) is $(1,0,...)$, ...  \n",
    "So $\\bf{x}$ is $U^{-1}\\hat{e_{1}}$. Overal the eigenvalues are $\\lambda^{'}_{i}$ and the eigenvectors are \n",
    "\\begin{equation}\n",
    "\\bf{x_{i}}=U^{-1}\\hat{e_{i}}\n",
    "\\end{equation}\n",
    "That is the eigenvectors are the columns of the matrix $U^{-1}$"
   ]
  },
  {
   "cell_type": "markdown",
   "metadata": {},
   "source": [
    "### Solve eigenvalue problem"
   ]
  },
  {
   "cell_type": "code",
   "execution_count": 29,
   "metadata": {},
   "outputs": [
    {
     "name": "stdout",
     "output_type": "stream",
     "text": [
      "[[ 0.66666667 -0.25      ]\n",
      " [-0.25        0.66666667]]\n",
      "Eigenvalues [0.91666667 0.41666667] \n",
      " Eigenmatrix [[ 0.70710678  0.70710678]\n",
      " [-0.70710678  0.70710678]]\n",
      "Eigenvector [ 0.70710678 -0.70710678] [0.70710678 0.70710678]\n"
     ]
    }
   ],
   "source": [
    "import numpy as np\n",
    "I=np.array([[2./3.,-1./4.],[-1./4.,2./3.]])\n",
    "print(I)\n",
    "eigenvalues, eigenmatrix = np.linalg.eig(I)\n",
    "print('Eigenvalues', eigenvalues, '\\n Eigenmatrix', eigenmatrix)\n",
    "print('Eigenvector',eigenmatrix[:,0],eigenmatrix[:,1])"
   ]
  },
  {
   "cell_type": "code",
   "execution_count": 30,
   "metadata": {
    "scrolled": true
   },
   "outputs": [
    {
     "name": "stdout",
     "output_type": "stream",
     "text": [
      "LHS-RHS [ 1.11022302e-16 -1.11022302e-16]\n",
      "[ 0.70710678 -0.70710678]\n",
      "[ 0.70710678 -0.70710678]\n"
     ]
    }
   ],
   "source": [
    "eigenvector1=np.array([eigenmatrix[0,0],eigenmatrix[1,0]])\n",
    "LHS = np.dot(I,eigenvector1)\n",
    "RHS = eigenvector1*eigenvalues[0]\n",
    "print('LHS-RHS',LHS-RHS)\n",
    "\n",
    "print(eigenvector1)\n",
    "# an easier way to get the first coloumn\n",
    "print(eigenmatrix[:,0])"
   ]
  },
  {
   "cell_type": "code",
   "execution_count": 45,
   "metadata": {},
   "outputs": [
    {
     "name": "stdout",
     "output_type": "stream",
     "text": [
      "Eigenvalues: [ 4. -2. -2.]\n",
      "Eigenvectors: [[-0.40824829 -0.81034214  0.1932607 ]\n",
      " [-0.40824829 -0.31851537 -0.59038328]\n",
      " [-0.81649658  0.49182677 -0.78364398]]\n",
      "Eigenvalue: 3.9999999999999982 Eigenvector: [-0.40824829 -0.40824829 -0.81649658]\n",
      "Ax: [-1.63299316 -1.63299316 -3.26598632] λx: [-1.63299316 -1.63299316 -3.26598632]\n",
      "Eigenvalue: -1.999999999999999 Eigenvector: [-0.81034214 -0.31851537  0.49182677]\n",
      "Ax: [ 1.62068428  0.63703074 -0.98365355] λx: [ 1.62068428  0.63703074 -0.98365355]\n",
      "Eigenvalue: -2.0000000000000004 Eigenvector: [ 0.1932607  -0.59038328 -0.78364398]\n",
      "Ax: [-0.38652141  1.18076655  1.56728796] λx: [-0.38652141  1.18076655  1.56728796]\n"
     ]
    }
   ],
   "source": [
    "# Find the eigenvalue and eigenvector for ([1,-3,3],[3,-5,3],[6,-6,4])\n",
    "A = np.array([[1,-3,3],[3,-5,3],[6,-6,4]])\n",
    "eigenvalues, eigenmatrix = np.linalg.eig(A)\n",
    "print('Eigenvalues:',eigenvalues)\n",
    "print('Eigenvectors:',eigenmatrix)\n",
    "# Now double check that the derived eigenvalue and eigenvector can satisfy Ax=\\lamba x\n",
    "for i in range(3):\n",
    "    print('Eigenvalue:', eigenvalues[i], 'Eigenvector:', eigenmatrix[:,i])\n",
    "    print('Ax:', np.dot(A,eigenmatrix[:,i]), 'λx:', eigenvalues[i]*eigenmatrix[:,i])"
   ]
  },
  {
   "cell_type": "markdown",
   "metadata": {},
   "source": []
  },
  {
   "cell_type": "code",
   "execution_count": 59,
   "metadata": {},
   "outputs": [
    {
     "name": "stdout",
     "output_type": "stream",
     "text": [
      "x= [-4. -5.  2.]\n",
      "Time 0.0009663105010986328\n",
      "x= [-4 -5  2]\n",
      "Time 0.0\n",
      "x= [-4. -5.  2.]\n",
      "Time 0.03490591049194336\n"
     ]
    }
   ],
   "source": [
    "#Homework: Use the linalg package, LU decompositin, and GaussSeidel method to solve 2y+z=-8, x-2y-3z=0, -x+y+2z=3\n",
    "import time\n",
    "from scipy import linalg\n",
    "\n",
    "A = np.array([[0,2,1],[1,-2,-3],[-1,1,2]])\n",
    "b = np.array([-8,0,3])\n",
    "\n",
    "start_time = time.time()\n",
    "x = np.linalg.solve(A,b)\n",
    "print(\"x=\",x)\n",
    "print(\"Time\", time.time() - start_time)\n",
    "\n",
    "start_time = time.time()\n",
    "n=3\n",
    "ipivot=np.zeros(3)\n",
    "A, ipivot = linalg.lu_factor(A)\n",
    "# The LU decomposition code in this notebook gives the wrong result. I don't know why.\n",
    "LUSystem(A, ipivot, b, n)\n",
    "print(\"x=\",b)\n",
    "print(\"Time\", time.time() - start_time)\n",
    "\n",
    "start_time = time.time()\n",
    "A = np.array([[0,2,1],[1,-2,-3],[-1,1,2]])\n",
    "b = np.array([-8,0,3])\n",
    "x = np.zeros(3)\n",
    "GaussSeidel(A, b, x, n, 0)\n",
    "print(\"x=\",x)\n",
    "print(\"Time\", time.time() - start_time)"
   ]
  },
  {
   "cell_type": "code",
   "execution_count": 70,
   "metadata": {},
   "outputs": [
    {
     "name": "stdout",
     "output_type": "stream",
     "text": [
      "x=0.375000e^(1.500000t)+0.625000e^(0.500000t)\n",
      "y=-1.500000e^(1.500000t)+2.500000e^(0.500000t)\n"
     ]
    }
   ],
   "source": [
    "# Homework for graduate students:\n",
    "# Solve equation array dx/dt=x-(1/8)y, dy/dt=-2x+y.  Write down the analytical solution \n",
    "# (coefficients can be floating point numbers)\n",
    "# Hint: first use linalg to get the eigenvalue and eigenvector for [[1,-1/3],[-2,1]] array\n",
    "\n",
    "A = np.array([[1,-1/8],[-2,1]])\n",
    "eigenvalues, eigenmatrix = np.linalg.eig(A)\n",
    "inital = np.array([1,1]) # initial values\n",
    "constants = np.linalg.solve(eigenmatrix, inital)\n",
    "print('x=%fe^(%ft)+%fe^(%ft)' %(constants[0]*eigenmatrix[0,0], eigenvalues[0], constants[1]*eigenmatrix[0,1], eigenvalues[1]))\n",
    "print('y=%fe^(%ft)+%fe^(%ft)' %(constants[0]*eigenmatrix[1,0], eigenvalues[0], constants[1]*eigenmatrix[1,1], eigenvalues[1]))"
   ]
  }
 ],
 "metadata": {
  "kernelspec": {
   "display_name": "Python 3",
   "language": "python",
   "name": "python3"
  },
  "language_info": {
   "codemirror_mode": {
    "name": "ipython",
    "version": 3
   },
   "file_extension": ".py",
   "mimetype": "text/x-python",
   "name": "python",
   "nbconvert_exporter": "python",
   "pygments_lexer": "ipython3",
   "version": "3.7.1"
  }
 },
 "nbformat": 4,
 "nbformat_minor": 2
}
