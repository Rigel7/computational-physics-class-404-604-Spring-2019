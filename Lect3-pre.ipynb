{
 "cells": [
  {
   "cell_type": "markdown",
   "metadata": {},
   "source": [
    "# Physics 404/604\n",
    "\n",
    "## Computational Physics (Spring 2019)\n",
    "\n",
    "## BPB-250, Mon./Wed. 1:00-2:15 pm\n",
    "\n",
    "| Instructor | Prof. Zhaohuan Zhu                 |\n",
    "| ---------- | :--------------------------------- |\n",
    "| Email      | zhaohuan.zhu@unlv.edu              |\n",
    "| Website    | http://www.physics.unlv.edu/~zhzhu |\n",
    "| Office     | BPB 245                            |\n",
    "\n"
   ]
  },
  {
   "cell_type": "markdown",
   "metadata": {},
   "source": [
    "# 1. How to represent numbers?\n",
    "\n"
   ]
  },
  {
   "cell_type": "markdown",
   "metadata": {},
   "source": [
    "## 1.1 Integers:   \n",
    "\n",
    " [$-2^{n-1}$, $2^{n-1}$] where n is the number of bits used to store the signed integer\n",
    "      \n",
    "      Note that in python2 integer is either 4 bytes or 8 bytes. In python 3, integer can be any length as long as the memory allows. On the otherhand, some python libraries (e.g. numpy) donot support these very long integers. Remember only 19 digets integer"
   ]
  },
  {
   "cell_type": "code",
   "execution_count": 1,
   "metadata": {},
   "outputs": [
    {
     "name": "stdout",
     "output_type": "stream",
     "text": [
      "int64\n",
      "[9223372036854775807] 0b111111111111111111111111111111111111111111111111111111111111111\n",
      "[-9223372036854775808] -0b1000000000000000000000000000000000000000000000000000000000000000\n"
     ]
    },
    {
     "name": "stderr",
     "output_type": "stream",
     "text": [
      "C:\\Users\\luojiawei\\Anaconda3\\lib\\site-packages\\ipykernel_launcher.py:5: RuntimeWarning: overflow encountered in longlong_scalars\n",
      "  \"\"\"\n"
     ]
    }
   ],
   "source": [
    "import numpy as np\n",
    "a=np.array([2**63-1])\n",
    "print(a.dtype)\n",
    "print(a,bin(a[0]))\n",
    "print(a+1,bin(a[0]+1))\n",
    "    "
   ]
  },
  {
   "cell_type": "markdown",
   "metadata": {},
   "source": [
    "## 1.2 Floating point numbers:\n",
    "\n",
    "8 bytes  \n",
    "One number in the memory   \n",
    "ABBBBBBBBBBBCCCCCCCCCCCCCCCCCCCCCCCCCCCCCCCCCCCCCCCCCCCCCCCCCCCC\n",
    "\n",
    "A: sign  \n",
    "B: e  \n",
    "C: $b_{52-i}$\n",
    "i is the bit of C; the i of the leftmost C is 1; the i of the rightmost C is 52.\n",
    "\n",
    "\\begin{equation}  \n",
    "x=(-1)^{sign}(1+\\sum_{i=1}^{52} b_{52-i}2^{-i})2^{e-1023}\n",
    "\\end{equation}"
   ]
  },
  {
   "cell_type": "code",
   "execution_count": 2,
   "metadata": {},
   "outputs": [],
   "source": [
    "import random\n",
    "import numpy as np\n",
    "import struct"
   ]
  },
  {
   "cell_type": "code",
   "execution_count": 3,
   "metadata": {},
   "outputs": [],
   "source": [
    "def fextract(num):\n",
    "    return ''.join(bin(c).replace('0b', '').rjust(8, '0') for c in struct.pack('!d', num))"
   ]
  },
  {
   "cell_type": "code",
   "execution_count": 4,
   "metadata": {},
   "outputs": [
    {
     "name": "stdout",
     "output_type": "stream",
     "text": [
      "1.0000000000000000000000000000000  0 01111111111 0000000000000000000000000000000000000000000000000000\n"
     ]
    }
   ],
   "source": [
    "num=1.0\n",
    "print(\"%.31f  %s\"%(num,fextract(num)[0]+' '+fextract(num)[1:12]+' '+fextract(num)[12:]))"
   ]
  },
  {
   "cell_type": "code",
   "execution_count": 5,
   "metadata": {},
   "outputs": [
    {
     "name": "stdout",
     "output_type": "stream",
     "text": [
      "0.5000000000000000000000000000000  0 01111111110 0000000000000000000000000000000000000000000000000000\n"
     ]
    }
   ],
   "source": [
    "num=0.5\n",
    "print(\"%.31f  %s\"%(num,fextract(num)[0]+' '+fextract(num)[1:12]+' '+fextract(num)[12:]))"
   ]
  },
  {
   "cell_type": "code",
   "execution_count": 6,
   "metadata": {},
   "outputs": [
    {
     "name": "stdout",
     "output_type": "stream",
     "text": [
      "0.7500000000000000000000000000000  0 01111111110 1000000000000000000000000000000000000000000000000000\n"
     ]
    }
   ],
   "source": [
    "num=0.75\n",
    "print(\"%.31f  %s\"%(num,fextract(num)[0]+' '+fextract(num)[1:12]+' '+fextract(num)[12:]))"
   ]
  },
  {
   "cell_type": "code",
   "execution_count": 7,
   "metadata": {},
   "outputs": [
    {
     "name": "stdout",
     "output_type": "stream",
     "text": [
      "0.2000000000000000111022302462516  0 01111111100 1001100110011001100110011001100110011001100110011010\n"
     ]
    }
   ],
   "source": [
    "num=0.2\n",
    "print(\"%.31f  %s\"%(num,fextract(num)[0]+' '+fextract(num)[1:12]+' '+fextract(num)[12:]))"
   ]
  },
  {
   "cell_type": "code",
   "execution_count": 8,
   "metadata": {},
   "outputs": [
    {
     "name": "stdout",
     "output_type": "stream",
     "text": [
      "1.8000000000000000444089209850063  0 01111111111 1100110011001100110011001100110011001100110011001101\n",
      "1.8000000000000000444089209850063  0 01111111111 1100110011001100110011001100110011001100110011001101\n",
      "1.7999999999999998223643160599750  0 01111111111 1100110011001100110011001100110011001100110011001100\n"
     ]
    }
   ],
   "source": [
    "# Left association is important !!! Keep this in mind when you are dealing with round-off errors.\n",
    "\n",
    "num=0.2+1.9-0.3\n",
    "print(\"%.31f  %s\"%(num,fextract(num)[0]+' '+fextract(num)[1:12]+' '+fextract(num)[12:]))\n",
    "\n",
    "\n",
    "num=1.9+0.2-0.3\n",
    "print(\"%.31f  %s\"%(num,fextract(num)[0]+' '+fextract(num)[1:12]+' '+fextract(num)[12:]))\n",
    "\n",
    "\n",
    "num=0.2-0.3+1.9\n",
    "print(\"%.31f  %s\"%(num,fextract(num)[0]+' '+fextract(num)[1:12]+' '+fextract(num)[12:]))\n",
    "\n",
    "# A+B-C does not equal A-C+B"
   ]
  },
  {
   "cell_type": "markdown",
   "metadata": {},
   "source": [
    "Range \n",
    "\n",
    "[-$10^{308}$, -$10^{-324}$] [$10^{-324}$,10$^{308}$]"
   ]
  },
  {
   "cell_type": "code",
   "execution_count": 9,
   "metadata": {},
   "outputs": [
    {
     "name": "stdout",
     "output_type": "stream",
     "text": [
      "0.0000000000000000000e+00  0 00000000000 0000000000000000000000000000000000000000000000000000\n"
     ]
    }
   ],
   "source": [
    "num=1.e-325 #underflow sometimes is treated as 0\n",
    "print(\"%.19e  %s\"%(num,fextract(num)[0]+' '+fextract(num)[1:12]+' '+fextract(num)[12:]))"
   ]
  },
  {
   "cell_type": "code",
   "execution_count": 10,
   "metadata": {},
   "outputs": [
    {
     "name": "stdout",
     "output_type": "stream",
     "text": [
      "9.8813129168249308835e-324  0 00000000000 0000000000000000000000000000000000000000000000000010\n"
     ]
    }
   ],
   "source": [
    "num=1.e-323\n",
    "print(\"%.19e  %s\"%(num,fextract(num)[0]+' '+fextract(num)[1:12]+' '+fextract(num)[12:]))"
   ]
  },
  {
   "cell_type": "code",
   "execution_count": 11,
   "metadata": {},
   "outputs": [
    {
     "name": "stdout",
     "output_type": "stream",
     "text": [
      "inf  0 11111111111 0000000000000000000000000000000000000000000000000000\n"
     ]
    }
   ],
   "source": [
    "num=1.e309 #overflow generates infinity\n",
    "print(\"%.19e  %s\"%(num,fextract(num)[0]+' '+fextract(num)[1:12]+' '+fextract(num)[12:]))"
   ]
  },
  {
   "cell_type": "code",
   "execution_count": 12,
   "metadata": {},
   "outputs": [
    {
     "name": "stdout",
     "output_type": "stream",
     "text": [
      "1.7976931347999999853e+308  0 11111111110 1111111111111111111111111111111110110011110001011011\n"
     ]
    }
   ],
   "source": [
    "num=1.7976931348e308 #overflow generates infinity\n",
    "print(\"%.19e  %s\"%(num,fextract(num)[0]+' '+fextract(num)[1:12]+' '+fextract(num)[12:]))"
   ]
  },
  {
   "cell_type": "code",
   "execution_count": 13,
   "metadata": {},
   "outputs": [
    {
     "name": "stdout",
     "output_type": "stream",
     "text": [
      "Overflow! 8.9884656743115795386e+307  0 11111111110 0000000000000000000000000000000000000000000000000000\n",
      "Underflow! 4.9406564584124654418e-324  0 00000000000 0000000000000000000000000000000000000000000000000001\n"
     ]
    }
   ],
   "source": [
    "# Write a code to determine the overflow and underflow limit to be accurate by a factor 2\n",
    "# Print out number which are 1/2^i and 2^i, eventually 1/2^i will become 0 and 2^i will become inf\n",
    "\n",
    "under =1.\n",
    "over =1.\n",
    "underflow = overflow = False\n",
    "for i in range(1100):\n",
    "    if underflow is False:\n",
    "        under = under / 2\n",
    "        if fextract(under)[1:12] == '00000000000' and fextract(under)[12:]== '0000000000000000000000000000000000000000000000000001':\n",
    "            print(\"Underflow! %.19e  %s\"%(under,fextract(under)[0]+' '+fextract(under)[1:12]+' '+fextract(under)[12:]))\n",
    "            underflow = True\n",
    "    if overflow is False:\n",
    "        over = over * 2\n",
    "        if fextract(over)[1:12] == '11111111110':\n",
    "            print(\"Overflow! %.19e  %s\"%(over,fextract(over)[0]+' '+fextract(over)[1:12]+' '+fextract(over)[12:]))\n",
    "            overflow = True\n",
    "    if overflow and underflow: break"
   ]
  },
  {
   "cell_type": "markdown",
   "metadata": {},
   "source": [
    "Machine Precision: "
   ]
  },
  {
   "cell_type": "code",
   "execution_count": 14,
   "metadata": {},
   "outputs": [
    {
     "name": "stdout",
     "output_type": "stream",
     "text": [
      "0.0000000000000000100000000000000  0 01111000110 0111000011101111010101000110010001101101010010010111\n"
     ]
    }
   ],
   "source": [
    "num=1.0e-17\n",
    "print(\"%.31f  %s\"%(num,fextract(num)[0]+' '+fextract(num)[1:12]+' '+fextract(num)[12:]))"
   ]
  },
  {
   "cell_type": "code",
   "execution_count": 15,
   "metadata": {},
   "outputs": [
    {
     "name": "stdout",
     "output_type": "stream",
     "text": [
      "1.0000000000000000000000000000000  0 01111111111 0000000000000000000000000000000000000000000000000000\n"
     ]
    }
   ],
   "source": [
    "num=1.0+1.0e-17\n",
    "print(\"%.31f  %s\"%(num,fextract(num)[0]+' '+fextract(num)[1:12]+' '+fextract(num)[12:]))"
   ]
  },
  {
   "cell_type": "code",
   "execution_count": 16,
   "metadata": {},
   "outputs": [
    {
     "name": "stdout",
     "output_type": "stream",
     "text": [
      "100.0999999999999943156581139191985 100.0999999999999943156581139191985\n"
     ]
    }
   ],
   "source": [
    "num1 = 100.1\n",
    "num2= 100.1+100.*1.0e-17\n",
    "print(\"%.31f %.31f\"%(num1,num2))"
   ]
  },
  {
   "cell_type": "code",
   "execution_count": 17,
   "metadata": {},
   "outputs": [
    {
     "name": "stdout",
     "output_type": "stream",
     "text": [
      "i=0, 1+eps=1.5000000000000000\n",
      "i=1, 1+eps=1.2500000000000000\n",
      "i=2, 1+eps=1.1250000000000000\n",
      "i=3, 1+eps=1.0625000000000000\n",
      "i=4, 1+eps=1.0312500000000000\n",
      "i=5, 1+eps=1.0156250000000000\n",
      "i=6, 1+eps=1.0078125000000000\n",
      "i=7, 1+eps=1.0039062500000000\n",
      "i=8, 1+eps=1.0019531250000000\n",
      "i=9, 1+eps=1.0009765625000000\n",
      "i=10, 1+eps=1.0004882812500000\n",
      "i=11, 1+eps=1.0002441406250000\n",
      "i=12, 1+eps=1.0001220703125000\n",
      "i=13, 1+eps=1.0000610351562500\n",
      "i=14, 1+eps=1.0000305175781250\n",
      "i=15, 1+eps=1.0000152587890625\n",
      "i=16, 1+eps=1.0000076293945312\n",
      "i=17, 1+eps=1.0000038146972656\n",
      "i=18, 1+eps=1.0000019073486328\n",
      "i=19, 1+eps=1.0000009536743164\n",
      "i=20, 1+eps=1.0000004768371582\n",
      "i=21, 1+eps=1.0000002384185791\n",
      "i=22, 1+eps=1.0000001192092896\n",
      "i=23, 1+eps=1.0000000596046448\n",
      "i=24, 1+eps=1.0000000298023224\n",
      "i=25, 1+eps=1.0000000149011612\n",
      "i=26, 1+eps=1.0000000074505806\n",
      "i=27, 1+eps=1.0000000037252903\n",
      "i=28, 1+eps=1.0000000018626451\n",
      "i=29, 1+eps=1.0000000009313226\n",
      "i=30, 1+eps=1.0000000004656613\n",
      "i=31, 1+eps=1.0000000002328306\n",
      "i=32, 1+eps=1.0000000001164153\n",
      "i=33, 1+eps=1.0000000000582077\n",
      "i=34, 1+eps=1.0000000000291038\n",
      "i=35, 1+eps=1.0000000000145519\n",
      "i=36, 1+eps=1.0000000000072760\n",
      "i=37, 1+eps=1.0000000000036380\n",
      "i=38, 1+eps=1.0000000000018190\n",
      "i=39, 1+eps=1.0000000000009095\n",
      "i=40, 1+eps=1.0000000000004547\n",
      "i=41, 1+eps=1.0000000000002274\n",
      "i=42, 1+eps=1.0000000000001137\n",
      "i=43, 1+eps=1.0000000000000568\n",
      "i=44, 1+eps=1.0000000000000284\n",
      "i=45, 1+eps=1.0000000000000142\n",
      "i=46, 1+eps=1.0000000000000071\n",
      "i=47, 1+eps=1.0000000000000036\n",
      "i=48, 1+eps=1.0000000000000018\n",
      "i=49, 1+eps=1.0000000000000009\n",
      "i=50, 1+eps=1.0000000000000004\n",
      "i=51, 1+eps=1.0000000000000002\n",
      "i=52, 1+eps=1.0000000000000000\n"
     ]
    }
   ],
   "source": [
    "# determine your machine's precision\n",
    "# Note definition of machine's precision is 1+epsion=1\n",
    "\n",
    "N = 60\n",
    "eps =1.0\n",
    "\n",
    "for i in range(N):\n",
    "    eps = eps/2\n",
    "    print('i=%d, 1+eps=%.16f' %(i,1+eps))\n",
    "    if 1+eps == 1:\n",
    "        break      "
   ]
  },
  {
   "cell_type": "code",
   "execution_count": 18,
   "metadata": {},
   "outputs": [
    {
     "name": "stdout",
     "output_type": "stream",
     "text": [
      "0.1000000000000000055511151231258 0.2000000000000000111022302462516 0.3000000000000000444089209850063 0.2999999999999999888977697537484\n",
      " the relative of the difference is  2.220446049250313e-16\n"
     ]
    }
   ],
   "source": [
    "# error in operations\n",
    "\n",
    "num1 = 0.1\n",
    "num2 = 0.2\n",
    "num3 = 0.3\n",
    "print(\"%.31f %.31f %.31f %.31f\"%(num1,num2, num1+num2, num3))\n",
    "print(\" the relative of the difference is \",abs((num1+num2)/num3-1))"
   ]
  },
  {
   "cell_type": "code",
   "execution_count": 19,
   "metadata": {},
   "outputs": [
    {
     "name": "stdout",
     "output_type": "stream",
     "text": [
      "0.2000000000000999866855977415980 0.2000000000000000111022302462516 0.0000000000000999755833674953465 0.0000000000001000000000000000030\n",
      " the relative of the difference is  0.00024416632504653535\n"
     ]
    }
   ],
   "source": [
    "num1 = 0.2000000000001\n",
    "num2 = 0.2\n",
    "num3 = 0.0000000000001\n",
    "print(\"%.31f %.31f %.31f %.31f\"%(num1,num2, num1-num2, num3))\n",
    "print(\" the relative of the difference is \",abs((num1-num2)/num3-1))"
   ]
  },
  {
   "cell_type": "markdown",
   "metadata": {},
   "source": [
    "## 1.3 How to calculate sin(x): When to stop\n",
    "### 1.3.1 using built-in functions"
   ]
  },
  {
   "cell_type": "code",
   "execution_count": 20,
   "metadata": {},
   "outputs": [
    {
     "data": {
      "text/plain": [
       "-0.46460217941375737"
      ]
     },
     "execution_count": 20,
     "metadata": {},
     "output_type": "execute_result"
    }
   ],
   "source": [
    "import numpy as np\n",
    "np.sin(5.8)"
   ]
  },
  {
   "cell_type": "markdown",
   "metadata": {},
   "source": [
    "### 1.3.2 using summing series\n",
    "\\begin{equation}\n",
    "{\\rm sin} \\,x=x-\\frac{x^3}{3!}+\\frac{x^5}{5!}-\\frac{x^7}{7!} + ...\n",
    "\\end{equation}\n",
    "or\n",
    "\\begin{equation}\n",
    "{\\rm sin} \\,x \\simeq \\sum_{n=1}^{N}\\frac{(-1)^{n-1}x^{2n-1}}{(2n-1)!}\n",
    "\\end{equation}"
   ]
  },
  {
   "cell_type": "code",
   "execution_count": 21,
   "metadata": {},
   "outputs": [],
   "source": [
    "import numpy as np\n",
    "\n",
    "def sin1(x, n):\n",
    "    sin1 = 0.0\n",
    "    for i in range(1,n+1):\n",
    "        sin1+=(-1)**(i-1)*x**(2*i-1)/np.math.factorial(2*i-1)\n",
    "    return sin1"
   ]
  },
  {
   "cell_type": "code",
   "execution_count": 22,
   "metadata": {},
   "outputs": [
    {
     "name": "stdout",
     "output_type": "stream",
     "text": [
      "-0.4646021794137545\n",
      "--- 0.0 seconds ---\n"
     ]
    }
   ],
   "source": [
    "import time\n",
    "start_time = time.time()\n",
    "print(sin1(5.8,20)) # compare with -0.46460217941375737\n",
    "print(\"--- %s seconds ---\" % (time.time() - start_time))"
   ]
  },
  {
   "cell_type": "markdown",
   "metadata": {},
   "source": [
    "### 1.3.3 using summing series but use relationship between different series\n",
    "\\begin{equation}\n",
    "nth\\, term=\\frac{-x^2}{(2n-1)(2n-2)} \\times(n-1)th\\, term\n",
    "\\end{equation}"
   ]
  },
  {
   "cell_type": "code",
   "execution_count": 23,
   "metadata": {},
   "outputs": [],
   "source": [
    "import numpy as np\n",
    "\n",
    "def sin2(x, n):\n",
    "    sin2 = 0.0\n",
    "    nm1th = x\n",
    "    sin2 = nm1th\n",
    "    for i in range(2,n+1):  # Please finish the rest of the code\n",
    "        nth = -x*x / ((2*i-1)*(2*i-2)) * nm1th\n",
    "        sin2 += nth\n",
    "        nm1th = nth\n",
    "    return sin2"
   ]
  },
  {
   "cell_type": "code",
   "execution_count": 24,
   "metadata": {},
   "outputs": [
    {
     "name": "stdout",
     "output_type": "stream",
     "text": [
      "-0.46460217941375503\n",
      "--- 0.0 seconds ---\n"
     ]
    }
   ],
   "source": [
    "import time\n",
    "start_time = time.time()\n",
    "print(sin2(5.8,20))\n",
    "print(\"--- %s seconds ---\" % (time.time() - start_time)) # compare with -0.46460217941375737"
   ]
  },
  {
   "cell_type": "code",
   "execution_count": 25,
   "metadata": {},
   "outputs": [
    {
     "name": "stdout",
     "output_type": "stream",
     "text": [
      "-0.46460217941375503\n"
     ]
    }
   ],
   "source": [
    "print(sin2(5.8,25)) "
   ]
  },
  {
   "cell_type": "markdown",
   "metadata": {},
   "source": [
    "When to stop?  \n",
    "\n",
    "The new term is smaller than the round-off error  \n",
    "|nth term/sum|<1.e-16\n"
   ]
  },
  {
   "cell_type": "code",
   "execution_count": 26,
   "metadata": {},
   "outputs": [],
   "source": [
    "import numpy as np\n",
    "\n",
    "def sin3(x, n):\n",
    "    sin3 = 0.0\n",
    "    nm1th = x\n",
    "    sin3 = nm1th\n",
    "    for i in range(2,n+1):\n",
    "        nth = nm1th*(-x*x)/(2*i-1)/(2*i-2)\n",
    "        sin3 += nth\n",
    "        nm1th = nth\n",
    "        print(i,sin3,nth)\n",
    "        if abs(nth/sin3)<1.e-16:\n",
    "            return sin3\n",
    "    return sin3"
   ]
  },
  {
   "cell_type": "code",
   "execution_count": 27,
   "metadata": {},
   "outputs": [
    {
     "name": "stdout",
     "output_type": "stream",
     "text": [
      "2 -26.718666666666667 -32.51866666666667\n",
      "3 27.97773066666667 54.69639733333334\n",
      "4 -15.831479006984129 -43.8092096736508\n",
      "5 4.637157290538273 20.4686362975224\n",
      "6 -1.6225238462676685 -6.259681136805941\n",
      "7 -0.2726797857410539 1.3498440605266147\n",
      "8 -0.4889119485796982 -0.21623216283864435\n",
      "9 -0.4621691178521541 0.026742830727544104\n",
      "10 -0.4647996114944774 -0.002630493642323344\n",
      "11 -0.4645889214798875 0.0002106900145898983\n",
      "12 -0.4646029286184069 -1.4007138519375849e-05\n",
      "13 -0.46460214328484056 7.853335663196727e-07\n",
      "14 -0.46460218091820404 -3.7633363491444145e-08\n",
      "15 -0.4646021793591076 1.5590964875026861e-09\n",
      "16 -0.4646021794155033 -5.63957052038606e-11\n",
      "17 -0.46460217941370674 1.7965450028957105e-12\n",
      "18 -0.46460217941375753 -5.07863646196737e-14\n",
      "19 -0.46460217941375626 1.2826226019563238e-15\n",
      "20 -0.4646021794137563 -2.91143214101287e-17\n",
      "-0.4646021794137563\n",
      "--- 0.0 seconds ---\n"
     ]
    }
   ],
   "source": [
    "import time\n",
    "start_time = time.time()\n",
    "print(sin3(5.8,23))\n",
    "print(\"--- %s seconds ---\" % (time.time() - start_time))"
   ]
  },
  {
   "cell_type": "markdown",
   "metadata": {},
   "source": [
    "# How to calculate $e^x$ : very careful with subtraction\n",
    "\n",
    "\\begin{equation}\n",
    "e^x=1+x+\\frac{x^2}{2!}+\\frac{x^3}{3!}+...\n",
    "\\end{equation}"
   ]
  },
  {
   "cell_type": "code",
   "execution_count": 28,
   "metadata": {},
   "outputs": [
    {
     "name": "stdout",
     "output_type": "stream",
     "text": [
      "2.718281828459045 0.36787944117144233\n"
     ]
    }
   ],
   "source": [
    "import numpy as np\n",
    "print(np.e,np.e**(-1))"
   ]
  },
  {
   "cell_type": "code",
   "execution_count": 29,
   "metadata": {},
   "outputs": [],
   "source": [
    "import numpy as np\n",
    "\n",
    "def exp1(x, n):\n",
    "    exp1 = 0.0\n",
    "    for i in range(n):\n",
    "        exp1+=x**i/np.math.factorial(i)\n",
    "    return exp1"
   ]
  },
  {
   "cell_type": "code",
   "execution_count": 30,
   "metadata": {},
   "outputs": [
    {
     "name": "stdout",
     "output_type": "stream",
     "text": [
      "6.061310256546751e-05 1.0249301721642577e-05\n"
     ]
    }
   ],
   "source": [
    "exact=np.e**(-1)\n",
    "estimate1 = exp1(-1, 8)\n",
    "estimate2 = 1/exp1(1, 8)\n",
    "error1 = np.abs(exact - estimate1)/exact\n",
    "error2 = np.abs(exact - estimate2)/exact\n",
    "print(error1,error2)\n",
    "# Please estimate the relative effor of the number calculated with exp1(-1,8)  and 1/exp1(1,8)\n",
    "# relative error=(numerical value - exact)/exact"
   ]
  },
  {
   "cell_type": "markdown",
   "metadata": {},
   "source": [
    "Homework: quadratic equation"
   ]
  },
  {
   "cell_type": "code",
   "execution_count": 90,
   "metadata": {},
   "outputs": [],
   "source": [
    "import numpy as np\n",
    "from matplotlib import pyplot as plt\n",
    "\n",
    "def quad_solve(a,b,c):\n",
    "    b24ac = np.sqrt(b**2-4*a*c)\n",
    "    x_result = np.zeros(4)\n",
    "    x_result[0] = (-b+b24ac)/(2*a)\n",
    "    x_result[1] = (-b-b24ac)/(2*a)\n",
    "    x_result[2] = (-2*c)/(b+b24ac)\n",
    "    x_result[3] = (-2*c)/(b-b24ac)\n",
    "    return x_result\n",
    "def quad_equation(a,b,c,x):\n",
    "    return a*x**2+b*x+c\n",
    "def quad_error(a,b,c,x_result):\n",
    "    total = 0\n",
    "    for i in range(0,4):\n",
    "        total += np.abs(quad_equation(a,b,c,x_result[i]))\n",
    "    return total/4"
   ]
  },
  {
   "cell_type": "code",
   "execution_count": 99,
   "metadata": {},
   "outputs": [
    {
     "name": "stdout",
     "output_type": "stream",
     "text": [
      "c=10e-1 [-0.11270167 -0.88729833 -0.11270167 -0.88729833] 4.5102810375396984e-17\n",
      "c=10e-2 [-0.01010205 -0.98989795 -0.01010205 -0.98989795] 5.091413401991929e-16\n",
      "c=10e-3 [-0.001001 -0.998999 -0.001001 -0.998999] 6.084108911119657e-15\n",
      "c=10e-4 [-1.00010002e-04 -9.99899990e-01 -1.00010002e-04 -9.99899990e-01] 1.3906932517463583e-14\n",
      "c=10e-5 [-1.00001e-05 -9.99990e-01 -1.00001e-05 -9.99990e-01] 4.156489012702028e-13\n",
      "c=10e-6 [-1.000001e-06 -9.999990e-01 -1.000001e-06 -9.999990e-01] 1.1585055069519933e-12\n",
      "c=10e-7 [-1.0000001e-07 -9.9999990e-01 -1.0000001e-07 -9.9999990e-01] 1.2798041685019178e-11\n",
      "c=10e-8 [-1.00000001e-08 -9.99999990e-01 -1.00000001e-08 -9.99999989e-01] 1.4396855810423239e-10\n",
      "c=10e-9 [-1.00000003e-09 -9.99999999e-01 -1.00000000e-09 -9.99999973e-01] 6.557304580622476e-09\n",
      "c=10e-10 [-1.00000008e-10 -1.00000000e+00 -1.00000000e-10 -9.99999917e-01] 2.066008931221574e-08\n",
      "c=10e-11 [-1.00000008e-11 -1.00000000e+00 -1.00000000e-11 -9.99999917e-01] 2.068258933625047e-08\n",
      "c=10e-12 [-1.00003339e-12 -1.00000000e+00 -1.00000000e-12 -9.99966612e-01] 8.346800128314408e-06\n",
      "c=10e-13 [-1.00031095e-13 -1.00000000e+00 -1.00000000e-13 -9.99689151e-01] 7.768797587567434e-05\n",
      "c=10e-14 [-9.99200722e-15 -1.00000000e+00 -1.00000000e-14 -1.00079992e+00] 0.0002001392652424887\n",
      "c=10e-15 [-9.99200722e-16 -1.00000000e+00 -1.00000000e-15 -1.00079992e+00] 0.0002001392652402351\n",
      "c=10e-16 [-1.11022302e-16 -1.00000000e+00 -1.00000000e-16 -9.00719925e-01] 0.02235588533200809\n",
      "c=10e-17 [ 0.e+00 -1.e+00 -1.e-17    -inf] nan\n"
     ]
    },
    {
     "name": "stderr",
     "output_type": "stream",
     "text": [
      "C:\\Users\\luojiawei\\Anaconda3\\lib\\site-packages\\ipykernel_launcher.py:10: RuntimeWarning: divide by zero encountered in double_scalars\n",
      "  # Remove the CWD from sys.path while we load stuff.\n",
      "C:\\Users\\luojiawei\\Anaconda3\\lib\\site-packages\\ipykernel_launcher.py:13: RuntimeWarning: invalid value encountered in double_scalars\n",
      "  del sys.path[0]\n"
     ]
    },
    {
     "data": {
      "image/png": "[encoded data removed]",
      "text/plain": [
       "<Figure size 432x288 with 1 Axes>"
      ]
     },
     "metadata": {
      "needs_background": "light"
     },
     "output_type": "display_data"
    }
   ],
   "source": [
    "a=1\n",
    "b=1\n",
    "error_list = []\n",
    "for i in range(-1,-18,-1):\n",
    "    c = np.power(10.,i)\n",
    "    x = quad_solve(a,b,c)\n",
    "    print('c=10e%d' %(i),x,quad_error(a,b,c,x))\n",
    "    error_list.append(quad_error(a,b,c,x))\n",
    "plt.plot(np.arange(1,18,1),error_list)\n",
    "plt.xlabel('c=10^-')\n",
    "plt.ylabel('error')\n",
    "plt.show()"
   ]
  },
  {
   "cell_type": "code",
   "execution_count": 100,
   "metadata": {},
   "outputs": [
    {
     "name": "stdout",
     "output_type": "stream",
     "text": [
      "c=10e-1 [Decimal('-0.1127016653792583114820734600'), Decimal('-0.887298334620741688517926540'), Decimal('-0.1127016653792583114820734600'), Decimal('-0.8872983346207416885179265401')] 3.5E-29\n",
      "c=10e-2 [Decimal('-0.01010205144336438036054318505'), Decimal('-0.989897948556635619639456815'), Decimal('-0.01010205144336438036054318506'), Decimal('-0.9898979485566356196394568158')] 2.2725E-28\n",
      "c=10e-3 [Decimal('-0.0010010020050140421324304349'), Decimal('-0.998998997994985957867569565'), Decimal('-0.001001002005014042132430434879'), Decimal('-0.9989989979949859578675695440')] 5.30525E-27\n",
      "c=10e-4 [Decimal('-0.0001000100020005001400420132'), Decimal('-0.999899989997999499859957987'), Decimal('-0.0001000100020005001400420132043'), Decimal('-0.9998999899979994998599580297')] 1.07760725E-26\n",
      "c=10e-5 [Decimal('-0.00001000010000200005000140005'), Decimal('-0.999989999899997999949998600'), Decimal('-0.00001000010000200005000140004200'), Decimal('-0.9999899998999979999499978001')] 1.9995200025E-25\n",
      "c=10e-6 [Decimal('-0.0000010000010000020000050000'), Decimal('-0.999998999998999997999995000'), Decimal('-0.000001000001000002000005000014000'), Decimal('-0.9999989999989999980000090000')] 3.5000035000E-24\n",
      "c=10e-7 [Decimal('-1.000000100000020000005E-7'), Decimal('-0.9999998999999899999979999995'), Decimal('-1.000000100000020000005000001E-7'), Decimal('-0.9999998999999899999980000009')] 3.50000045E-28\n",
      "c=10e-8 [Decimal('-1.00000001000000020000E-8'), Decimal('-0.999999989999999899999998000'), Decimal('-1.000000010000000200000005000E-8'), Decimal('-0.9999999899999999000000030000')] 1.250000012500E-24\n",
      "c=10e-9 [Decimal('-1.0000000010000000020E-9'), Decimal('-0.999999998999999998999999998'), Decimal('-1.000000001000000002000000005E-9'), Decimal('-0.9999999989999999990000000030')] 1.25000000125E-27\n",
      "c=10e-10 [Decimal('-1.000000000100000000E-10'), Decimal('-0.999999999899999999990000000'), Decimal('-1.000000000100000000020000000E-10'), Decimal('-0.9999999999000000000100000000')] 5.00000000050000000E-21\n",
      "c=10e-11 [Decimal('-1.00000000001000000E-11'), Decimal('-0.999999999989999999999900000'), Decimal('-1.000000000010000000000200000E-11'), Decimal('-0.9999999999900000000001000000')] 5.0000000000500000E-23\n",
      "c=10e-12 [Decimal('-1.0000000000010000E-12'), Decimal('-0.999999999998999999999999000'), Decimal('-1.000000000001000000000002000E-12'), Decimal('-0.9999999999990000000000010000')] 5.000000000005000E-25\n",
      "c=10e-13 [Decimal('-1.000000000000100E-13'), Decimal('-0.999999999999899999999999990'), Decimal('-1.000000000000100000000000020E-13'), Decimal('-0.9999999999999000000000000100')] 5.00000000000050E-27\n",
      "c=10e-14 [Decimal('-1.00000000000001E-14'), Decimal('-0.999999999999990000000000000'), Decimal('-1.000000000000010000000000000E-14'), Decimal('-0.9999999999999900000000000001')] 7.5000000000001E-29\n",
      "c=10e-15 [Decimal('-1.0000000000000E-15'), Decimal('-0.999999999999999000000000000'), Decimal('-1.000000000000001000000000000E-15'), Decimal('-1')] 2.50000000000000250000000000E-16\n",
      "c=10e-16 [Decimal('-1.000000000000E-16'), Decimal('-0.999999999999999900000000000'), Decimal('-1.000000000000000100000000000E-16'), Decimal('-1')] 2.50000000000000025000000000E-17\n",
      "c=10e-17 [Decimal('-1.00000000000E-17'), Decimal('-0.999999999999999990000000000'), Decimal('-1.000000000000000010000000000E-17'), Decimal('-1')] 2.50000000000000002500000000E-18\n"
     ]
    },
    {
     "data": {
      "image/png": "[encoded data removed]",
      "text/plain": [
       "<Figure size 432x288 with 1 Axes>"
      ]
     },
     "metadata": {
      "needs_background": "light"
     },
     "output_type": "display_data"
    }
   ],
   "source": [
    "from decimal import Decimal\n",
    "import decimal\n",
    "\n",
    "def quad_solve2(a,b,c):\n",
    "    b24ac = (b**2-4*a*c).sqrt()\n",
    "    x_result = []\n",
    "    x_result.append((-b+b24ac)/(2*a))\n",
    "    x_result.append((-b-b24ac)/(2*a))\n",
    "    x_result.append((-2*c)/(b+b24ac))\n",
    "    x_result.append((-2*c)/(b-b24ac))\n",
    "    return x_result\n",
    "\n",
    "def quad_error2(a,b,c,x_result):\n",
    "    total = Decimal(0.)\n",
    "    for i in range(0,4):\n",
    "        total += quad_equation(a,b,c,x_result[i]).copy_abs()\n",
    "    return total/4\n",
    "\n",
    "a2 = Decimal(1.)\n",
    "b2 = Decimal(1.)\n",
    "error_list = []\n",
    "for i in range(-1,-18,-1):\n",
    "    c = Decimal(10.) ** Decimal(i)\n",
    "    x = quad_solve2(a,b,c)\n",
    "    print('c=10e%d' %(i),x,quad_error2(a2,b2,c,x))\n",
    "    error_list.append(quad_error2(a2,b2,c,x))\n",
    "plt.plot(np.arange(1,18,1),error_list)\n",
    "plt.xlabel('c=10^-')\n",
    "plt.ylabel('error')\n",
    "plt.show()"
   ]
  },
  {
   "cell_type": "code",
   "execution_count": null,
   "metadata": {},
   "outputs": [],
   "source": []
  }
 ],
 "metadata": {
  "kernelspec": {
   "display_name": "Python 3",
   "language": "python",
   "name": "python3"
  },
  "language_info": {
   "codemirror_mode": {
    "name": "ipython",
    "version": 3
   },
   "file_extension": ".py",
   "mimetype": "text/x-python",
   "name": "python",
   "nbconvert_exporter": "python",
   "pygments_lexer": "ipython3",
   "version": "3.7.1"
  }
 },
 "nbformat": 4,
 "nbformat_minor": 2
}
