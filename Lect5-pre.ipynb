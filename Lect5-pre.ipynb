{
 "cells": [
  {
   "cell_type": "markdown",
   "metadata": {},
   "source": [
    "# Physics 404/604\n",
    "\n",
    "## Computational Physics (Spring 2019)\n",
    "\n",
    "## BPB-250, Mon./Wed. 1:00-2:15 pm\n",
    "\n",
    "| Instructor | Prof. Zhaohuan Zhu                 |\n",
    "| ---------- | :--------------------------------- |\n",
    "| Email      | zhaohuan.zhu@unlv.edu              |\n",
    "| Website    | http://www.physics.unlv.edu/~zhzhu |\n",
    "| Office     | BPB 245                            |\n",
    "\n"
   ]
  },
  {
   "cell_type": "markdown",
   "metadata": {},
   "source": [
    "# How to solve equations numerically?\n",
    "\n",
    "How to find the solution of 2*sin(x)=x ?\n",
    "\n",
    "or more generally, find the solution of f(x)=0\n",
    "\n",
    "Most important thing: plot f(x) first.\n",
    "\n",
    "## 1 Trial-and-Error Roots via Bisection\n",
    "At x1, the function is positive (negative); at x2, the function is negative(positive); the solution has to be within [x1,x2]; search the value at (x1+x2)/2; if it is positive(negative), then (x1+x2)/2 is the new x1, otherwise it is x2...."
   ]
  },
  {
   "cell_type": "code",
   "execution_count": 1,
   "metadata": {
    "scrolled": true
   },
   "outputs": [
    {
     "data": {
      "text/plain": [
       "<Figure size 640x480 with 1 Axes>"
      ]
     },
     "metadata": {},
     "output_type": "display_data"
    }
   ],
   "source": [
    "## Always a good idea to draw the function first\n",
    "import matplotlib.pyplot as plt\n",
    "import numpy as np\n",
    "\n",
    "def f(x):\n",
    "    return 2.*np.sin(x)-x\n",
    "\n",
    "t = np.arange(0.0, 3.0, 0.01)\n",
    "s = f(t)\n",
    "plt.plot(t, s)\n",
    "s2 = np.zeros(len(t))\n",
    "plt.plot(t,s2)\n",
    "plt.show()"
   ]
  },
  {
   "cell_type": "code",
   "execution_count": 2,
   "metadata": {},
   "outputs": [],
   "source": [
    "def bisection(xmin,xmax, Nmax, eps,f):\n",
    "    for i in range(0,Nmax):\n",
    "        x=(xmin+xmax)/2.\n",
    "        if(f(xmin)*f(x)>0):\n",
    "            xmin = x\n",
    "            # add one line here\n",
    "        else:\n",
    "            xmax = x\n",
    "            # add another line here\n",
    "        if(abs(f(x))<eps):\n",
    "            print(\"Root is at\",x,\" after \",i,\" iterations, with a precision of \",abs(f(x)))\n",
    "            break\n",
    "    return x"
   ]
  },
  {
   "cell_type": "code",
   "execution_count": 3,
   "metadata": {},
   "outputs": [
    {
     "name": "stdout",
     "output_type": "stream",
     "text": [
      "Root is at 1.8954942673444748  after  24  iterations, with a precision of  5.086029375434009e-10\n"
     ]
    }
   ],
   "source": [
    "eps = 1.e-8\n",
    "a=0.5\n",
    "b=3.\n",
    "nmax=100\n",
    "root = bisection(a,b,nmax,eps,f)\n"
   ]
  },
  {
   "cell_type": "markdown",
   "metadata": {},
   "source": [
    "## 2. Newton-Raphson Searching\n",
    "\n",
    "Want to find x so that f(x)=0 :   \n",
    "Starting with a guess at $x_{0}$, then try to correct it with $\\Delta x$, hopeing that $f(x_{0}+\\Delta x)=0$.\n",
    "\\begin{equation}\n",
    "f(x=x_{0}+\\Delta x)\\simeq f(x_{0})+f'(x_{0})\\Delta x=0\n",
    "\\end{equation}\n",
    "So that\n",
    "\\begin{equation}\n",
    "\\Delta x=-\\frac{f(x_{0})}{f'(x_{0})}\n",
    "\\end{equation}\n",
    "Then use $x_{0}=x_{0}+\\Delta x$ to update $x_{0}$.\n",
    "This repeated until it reaches a given precision. \n",
    "\n",
    "Newton-Raphson method requires the first derivative. You can use either analytical solution or numerical derivative we talked about to calculate it (normally forward difference or central difference is sufficient). "
   ]
  },
  {
   "cell_type": "code",
   "execution_count": 4,
   "metadata": {},
   "outputs": [],
   "source": [
    "def newtonraphson(x0,dx, Nmax, eps,f):\n",
    "    for i in range(0,Nmax):\n",
    "        df = (f(x0+dx/2)-f(x0-dx/2))/dx\n",
    "        x0 = x0 - f(x0)/df\n",
    "        # add one line here to update x0\n",
    "        if(abs(f(x0))<eps):\n",
    "            print(\"Root is at\",x0,\" after \",i,\" iterations, with a precision of \",abs(f(x0)))\n",
    "            break\n",
    "    return x0"
   ]
  },
  {
   "cell_type": "code",
   "execution_count": 5,
   "metadata": {},
   "outputs": [
    {
     "name": "stdout",
     "output_type": "stream",
     "text": [
      "Root is at 1.8954942670339812  after  4  iterations, with a precision of  4.440892098500626e-16\n"
     ]
    }
   ],
   "source": [
    "eps = 1.e-8\n",
    "dx=1.e-6\n",
    "a=3.\n",
    "nmax=100\n",
    "root = newtonraphson(a,dx,nmax,eps,f)"
   ]
  },
  {
   "cell_type": "code",
   "execution_count": 6,
   "metadata": {},
   "outputs": [
    {
     "name": "stdout",
     "output_type": "stream",
     "text": [
      "Root is at 0.0  after  0  iterations, with a precision of  0.0\n"
     ]
    }
   ],
   "source": [
    "# However, if the initial guess is on the other side of the slope, it will get a different result\n",
    "eps = 1.e-8\n",
    "dx=1.e-6\n",
    "a=0.\n",
    "nmax=100\n",
    "root = newtonraphson(a,dx,nmax,eps,f)"
   ]
  },
  {
   "cell_type": "code",
   "execution_count": 7,
   "metadata": {},
   "outputs": [
    {
     "data": {
      "image/png": "[encoded data removed]",
      "text/plain": [
       "<Figure size 432x288 with 1 Axes>"
      ]
     },
     "metadata": {
      "needs_background": "light"
     },
     "output_type": "display_data"
    }
   ],
   "source": [
    "# it can even fail, entering infinity loop, for example x^3-2x+2\n",
    "import matplotlib.pyplot as plt\n",
    "import numpy as np\n",
    "\n",
    "def f(x):\n",
    "    return x*x*x-2*x+2\n",
    "\n",
    "t = np.arange(-2., 2.0, 0.1)\n",
    "s = f(t)\n",
    "plt.plot(t, s)\n",
    "s2 = np.zeros(len(t))\n",
    "plt.plot(t,s2)\n",
    "plt.show()"
   ]
  },
  {
   "cell_type": "code",
   "execution_count": 8,
   "metadata": {},
   "outputs": [
    {
     "name": "stdout",
     "output_type": "stream",
     "text": [
      "0.9999999999712443\n",
      "1.397779669787269e-10\n",
      "0.9999999999712443\n",
      "1.397779669787269e-10\n",
      "0.9999999999712443\n",
      "1.397779669787269e-10\n",
      "0.9999999999712443\n",
      "1.397779669787269e-10\n",
      "0.9999999999712443\n",
      "1.397779669787269e-10\n",
      "0.9999999999712443\n",
      "1.397779669787269e-10\n",
      "0.9999999999712443\n",
      "1.397779669787269e-10\n",
      "0.9999999999712443\n",
      "1.397779669787269e-10\n",
      "0.9999999999712443\n",
      "1.397779669787269e-10\n",
      "0.9999999999712443\n",
      "1.397779669787269e-10\n",
      "0.9999999999712443\n",
      "1.397779669787269e-10\n",
      "0.9999999999712443\n",
      "1.397779669787269e-10\n",
      "0.9999999999712443\n",
      "1.397779669787269e-10\n",
      "0.9999999999712443\n",
      "1.397779669787269e-10\n",
      "0.9999999999712443\n",
      "1.397779669787269e-10\n",
      "0.9999999999712443\n",
      "1.397779669787269e-10\n",
      "0.9999999999712443\n",
      "1.397779669787269e-10\n",
      "0.9999999999712443\n",
      "1.397779669787269e-10\n",
      "0.9999999999712443\n",
      "1.397779669787269e-10\n",
      "0.9999999999712443\n",
      "1.397779669787269e-10\n",
      "0.9999999999712443\n",
      "1.397779669787269e-10\n",
      "0.9999999999712443\n",
      "1.397779669787269e-10\n",
      "0.9999999999712443\n",
      "1.397779669787269e-10\n",
      "0.9999999999712443\n",
      "1.397779669787269e-10\n",
      "0.9999999999712443\n",
      "1.397779669787269e-10\n",
      "0.9999999999712443\n",
      "1.397779669787269e-10\n",
      "0.9999999999712443\n",
      "1.397779669787269e-10\n",
      "0.9999999999712443\n",
      "1.397779669787269e-10\n",
      "0.9999999999712443\n",
      "1.397779669787269e-10\n",
      "0.9999999999712443\n",
      "1.397779669787269e-10\n",
      "0.9999999999712443\n",
      "1.397779669787269e-10\n",
      "0.9999999999712443\n",
      "1.397779669787269e-10\n",
      "0.9999999999712443\n",
      "1.397779669787269e-10\n",
      "0.9999999999712443\n",
      "1.397779669787269e-10\n",
      "0.9999999999712443\n",
      "1.397779669787269e-10\n",
      "0.9999999999712443\n",
      "1.397779669787269e-10\n",
      "0.9999999999712443\n",
      "1.397779669787269e-10\n",
      "0.9999999999712443\n",
      "1.397779669787269e-10\n",
      "0.9999999999712443\n",
      "1.397779669787269e-10\n",
      "0.9999999999712443\n",
      "1.397779669787269e-10\n",
      "0.9999999999712443\n",
      "1.397779669787269e-10\n",
      "0.9999999999712443\n",
      "1.397779669787269e-10\n",
      "0.9999999999712443\n",
      "1.397779669787269e-10\n",
      "0.9999999999712443\n",
      "1.397779669787269e-10\n",
      "0.9999999999712443\n",
      "1.397779669787269e-10\n",
      "0.9999999999712443\n",
      "1.397779669787269e-10\n",
      "0.9999999999712443\n",
      "1.397779669787269e-10\n",
      "0.9999999999712443\n",
      "1.397779669787269e-10\n",
      "0.9999999999712443\n",
      "1.397779669787269e-10\n",
      "0.9999999999712443\n",
      "1.397779669787269e-10\n"
     ]
    }
   ],
   "source": [
    "def newtonraphson2(x0,dx, Nmax, eps,f):\n",
    "    for i in range(0,Nmax):\n",
    "        df = (f(x0+dx/2)-f(x0-dx/2))/dx\n",
    "        x0 = x0-f(x0)/df\n",
    "        print(x0)\n",
    "    return x0\n",
    "\n",
    "eps = 1.e-8\n",
    "dx=1.e-6\n",
    "a=0.\n",
    "nmax=100\n",
    "root = newtonraphson2(a,dx,nmax,eps,f)"
   ]
  },
  {
   "cell_type": "markdown",
   "metadata": {},
   "source": [
    "## 3. Newton-Raphson with Backtracking\n",
    "\n",
    "If the code enters such an infinite loop, we need to restart the search with a different guess. \n",
    "\n",
    "If the new guess $x_{0}+\\Delta x$ leads to an increase in the magnitude of the function, $|f(x_{0}+\\Delta x)|^2>|f(x_{0})|^2$, we can backtrack somewhat and try a smaller guess, say $x_{0}+1/2 \\Delta x$. If the magnitude still increases, we try $x_{0}+1/4 \\Delta x$."
   ]
  },
  {
   "cell_type": "code",
   "execution_count": 9,
   "metadata": {},
   "outputs": [],
   "source": [
    "def newtonraphsonbacktracking(x0,dx,Nmax, eps,f):\n",
    "    for i in range(0,Nmax):        \n",
    "        df = (f(x0+dx/2)-f(x0-dx/2))/dx\n",
    "        dxt = -f(x0)/df\n",
    "        while ( ): # please finish the statement in while\n",
    "              dxt=dxt/2.\n",
    "        x0 = x0+dxt\n",
    "        print(x0,dxt,f(x0),df)\n",
    "        if(abs(f(x0))<eps):\n",
    "              print(\"Root is at\",x0,\" after \",i,\" iterations, with a precision of \",abs(f(x0)))\n",
    "              break\n",
    "    return x0"
   ]
  },
  {
   "cell_type": "code",
   "execution_count": 10,
   "metadata": {},
   "outputs": [
    {
     "name": "stdout",
     "output_type": "stream",
     "text": [
      "0.9999999999712443 0.9999999999712443 0.9999999999712443 -2.0000000000575113\n",
      "1.397779669787269e-10 -0.9999999998314664 1.999999999720444 1.000000000139778\n",
      "0.9999999999712443 0.9999999998314664 0.9999999999712443 -2.0000000000575113\n",
      "1.397779669787269e-10 -0.9999999998314664 1.999999999720444 1.000000000139778\n",
      "0.9999999999712443 0.9999999998314664 0.9999999999712443 -2.0000000000575113\n",
      "1.397779669787269e-10 -0.9999999998314664 1.999999999720444 1.000000000139778\n",
      "0.9999999999712443 0.9999999998314664 0.9999999999712443 -2.0000000000575113\n",
      "1.397779669787269e-10 -0.9999999998314664 1.999999999720444 1.000000000139778\n",
      "0.9999999999712443 0.9999999998314664 0.9999999999712443 -2.0000000000575113\n",
      "1.397779669787269e-10 -0.9999999998314664 1.999999999720444 1.000000000139778\n",
      "0.9999999999712443 0.9999999998314664 0.9999999999712443 -2.0000000000575113\n",
      "1.397779669787269e-10 -0.9999999998314664 1.999999999720444 1.000000000139778\n",
      "0.9999999999712443 0.9999999998314664 0.9999999999712443 -2.0000000000575113\n",
      "1.397779669787269e-10 -0.9999999998314664 1.999999999720444 1.000000000139778\n",
      "0.9999999999712443 0.9999999998314664 0.9999999999712443 -2.0000000000575113\n",
      "1.397779669787269e-10 -0.9999999998314664 1.999999999720444 1.000000000139778\n",
      "0.9999999999712443 0.9999999998314664 0.9999999999712443 -2.0000000000575113\n",
      "1.397779669787269e-10 -0.9999999998314664 1.999999999720444 1.000000000139778\n",
      "0.9999999999712443 0.9999999998314664 0.9999999999712443 -2.0000000000575113\n",
      "1.397779669787269e-10 -0.9999999998314664 1.999999999720444 1.000000000139778\n",
      "0.9999999999712443 0.9999999998314664 0.9999999999712443 -2.0000000000575113\n",
      "1.397779669787269e-10 -0.9999999998314664 1.999999999720444 1.000000000139778\n",
      "0.9999999999712443 0.9999999998314664 0.9999999999712443 -2.0000000000575113\n",
      "1.397779669787269e-10 -0.9999999998314664 1.999999999720444 1.000000000139778\n",
      "0.9999999999712443 0.9999999998314664 0.9999999999712443 -2.0000000000575113\n",
      "1.397779669787269e-10 -0.9999999998314664 1.999999999720444 1.000000000139778\n",
      "0.9999999999712443 0.9999999998314664 0.9999999999712443 -2.0000000000575113\n",
      "1.397779669787269e-10 -0.9999999998314664 1.999999999720444 1.000000000139778\n",
      "0.9999999999712443 0.9999999998314664 0.9999999999712443 -2.0000000000575113\n",
      "1.397779669787269e-10 -0.9999999998314664 1.999999999720444 1.000000000139778\n",
      "0.9999999999712443 0.9999999998314664 0.9999999999712443 -2.0000000000575113\n",
      "1.397779669787269e-10 -0.9999999998314664 1.999999999720444 1.000000000139778\n",
      "0.9999999999712443 0.9999999998314664 0.9999999999712443 -2.0000000000575113\n",
      "1.397779669787269e-10 -0.9999999998314664 1.999999999720444 1.000000000139778\n",
      "0.9999999999712443 0.9999999998314664 0.9999999999712443 -2.0000000000575113\n",
      "1.397779669787269e-10 -0.9999999998314664 1.999999999720444 1.000000000139778\n",
      "0.9999999999712443 0.9999999998314664 0.9999999999712443 -2.0000000000575113\n",
      "1.397779669787269e-10 -0.9999999998314664 1.999999999720444 1.000000000139778\n",
      "0.9999999999712443 0.9999999998314664 0.9999999999712443 -2.0000000000575113\n",
      "1.397779669787269e-10 -0.9999999998314664 1.999999999720444 1.000000000139778\n",
      "0.9999999999712443 0.9999999998314664 0.9999999999712443 -2.0000000000575113\n",
      "1.397779669787269e-10 -0.9999999998314664 1.999999999720444 1.000000000139778\n",
      "0.9999999999712443 0.9999999998314664 0.9999999999712443 -2.0000000000575113\n",
      "1.397779669787269e-10 -0.9999999998314664 1.999999999720444 1.000000000139778\n",
      "0.9999999999712443 0.9999999998314664 0.9999999999712443 -2.0000000000575113\n",
      "1.397779669787269e-10 -0.9999999998314664 1.999999999720444 1.000000000139778\n",
      "0.9999999999712443 0.9999999998314664 0.9999999999712443 -2.0000000000575113\n",
      "1.397779669787269e-10 -0.9999999998314664 1.999999999720444 1.000000000139778\n",
      "0.9999999999712443 0.9999999998314664 0.9999999999712443 -2.0000000000575113\n",
      "1.397779669787269e-10 -0.9999999998314664 1.999999999720444 1.000000000139778\n",
      "0.9999999999712443 0.9999999998314664 0.9999999999712443 -2.0000000000575113\n",
      "1.397779669787269e-10 -0.9999999998314664 1.999999999720444 1.000000000139778\n",
      "0.9999999999712443 0.9999999998314664 0.9999999999712443 -2.0000000000575113\n",
      "1.397779669787269e-10 -0.9999999998314664 1.999999999720444 1.000000000139778\n",
      "0.9999999999712443 0.9999999998314664 0.9999999999712443 -2.0000000000575113\n",
      "1.397779669787269e-10 -0.9999999998314664 1.999999999720444 1.000000000139778\n",
      "0.9999999999712443 0.9999999998314664 0.9999999999712443 -2.0000000000575113\n",
      "1.397779669787269e-10 -0.9999999998314664 1.999999999720444 1.000000000139778\n",
      "0.9999999999712443 0.9999999998314664 0.9999999999712443 -2.0000000000575113\n",
      "1.397779669787269e-10 -0.9999999998314664 1.999999999720444 1.000000000139778\n",
      "0.9999999999712443 0.9999999998314664 0.9999999999712443 -2.0000000000575113\n",
      "1.397779669787269e-10 -0.9999999998314664 1.999999999720444 1.000000000139778\n",
      "0.9999999999712443 0.9999999998314664 0.9999999999712443 -2.0000000000575113\n",
      "1.397779669787269e-10 -0.9999999998314664 1.999999999720444 1.000000000139778\n",
      "0.9999999999712443 0.9999999998314664 0.9999999999712443 -2.0000000000575113\n",
      "1.397779669787269e-10 -0.9999999998314664 1.999999999720444 1.000000000139778\n",
      "0.9999999999712443 0.9999999998314664 0.9999999999712443 -2.0000000000575113\n",
      "1.397779669787269e-10 -0.9999999998314664 1.999999999720444 1.000000000139778\n",
      "0.9999999999712443 0.9999999998314664 0.9999999999712443 -2.0000000000575113\n",
      "1.397779669787269e-10 -0.9999999998314664 1.999999999720444 1.000000000139778\n",
      "0.9999999999712443 0.9999999998314664 0.9999999999712443 -2.0000000000575113\n",
      "1.397779669787269e-10 -0.9999999998314664 1.999999999720444 1.000000000139778\n",
      "0.9999999999712443 0.9999999998314664 0.9999999999712443 -2.0000000000575113\n",
      "1.397779669787269e-10 -0.9999999998314664 1.999999999720444 1.000000000139778\n",
      "0.9999999999712443 0.9999999998314664 0.9999999999712443 -2.0000000000575113\n",
      "1.397779669787269e-10 -0.9999999998314664 1.999999999720444 1.000000000139778\n",
      "0.9999999999712443 0.9999999998314664 0.9999999999712443 -2.0000000000575113\n",
      "1.397779669787269e-10 -0.9999999998314664 1.999999999720444 1.000000000139778\n",
      "0.9999999999712443 0.9999999998314664 0.9999999999712443 -2.0000000000575113\n",
      "1.397779669787269e-10 -0.9999999998314664 1.999999999720444 1.000000000139778\n",
      "0.9999999999712443 0.9999999998314664 0.9999999999712443 -2.0000000000575113\n",
      "1.397779669787269e-10 -0.9999999998314664 1.999999999720444 1.000000000139778\n",
      "0.9999999999712443 0.9999999998314664 0.9999999999712443 -2.0000000000575113\n",
      "1.397779669787269e-10 -0.9999999998314664 1.999999999720444 1.000000000139778\n",
      "0.9999999999712443 0.9999999998314664 0.9999999999712443 -2.0000000000575113\n",
      "1.397779669787269e-10 -0.9999999998314664 1.999999999720444 1.000000000139778\n",
      "0.9999999999712443 0.9999999998314664 0.9999999999712443 -2.0000000000575113\n",
      "1.397779669787269e-10 -0.9999999998314664 1.999999999720444 1.000000000139778\n",
      "0.9999999999712443 0.9999999998314664 0.9999999999712443 -2.0000000000575113\n",
      "1.397779669787269e-10 -0.9999999998314664 1.999999999720444 1.000000000139778\n",
      "0.9999999999712443 0.9999999998314664 0.9999999999712443 -2.0000000000575113\n",
      "1.397779669787269e-10 -0.9999999998314664 1.999999999720444 1.000000000139778\n",
      "0.9999999999712443 0.9999999998314664 0.9999999999712443 -2.0000000000575113\n",
      "1.397779669787269e-10 -0.9999999998314664 1.999999999720444 1.000000000139778\n",
      "0.9999999999712443 0.9999999998314664 0.9999999999712443 -2.0000000000575113\n",
      "1.397779669787269e-10 -0.9999999998314664 1.999999999720444 1.000000000139778\n",
      "0.9999999999712443 0.9999999998314664 0.9999999999712443 -2.0000000000575113\n",
      "1.397779669787269e-10 -0.9999999998314664 1.999999999720444 1.000000000139778\n",
      "0.9999999999712443 0.9999999998314664 0.9999999999712443 -2.0000000000575113\n",
      "1.397779669787269e-10 -0.9999999998314664 1.999999999720444 1.000000000139778\n"
     ]
    }
   ],
   "source": [
    "# it can even fail, entering infinity loop\n",
    "import matplotlib.pyplot as plt\n",
    "import numpy as np\n",
    "\n",
    "def f(x):\n",
    "    return x*x*x-2*x+2\n",
    "\n",
    "eps = 1.e-8\n",
    "dx=1.e-6\n",
    "a=0.\n",
    "nmax=100\n",
    "root = newtonraphsonbacktracking(a,dx,nmax,eps,f)"
   ]
  },
  {
   "cell_type": "markdown",
   "metadata": {},
   "source": [
    "## Newton-Raphson for equations\n",
    "Find the solution for  \n",
    "\\begin{eqnarray}\n",
    "x_{1}^2+x_{1}x_{2}=10\\\\\n",
    "x_{2}+3x_{1}x_{2}^2=57\n",
    "\\end{eqnarray}"
   ]
  },
  {
   "cell_type": "markdown",
   "metadata": {},
   "source": [
    "## Two masses on a string problem:\n",
    "\n",
    "The problem is from the textbook \"COMPUTATIONAL PHYSICS\", 3rd Ed, by RH Landau, MJ Paez, and CC Bordeianu\n",
    "\n",
    "Very hard to solve analytically.\n",
    "\n",
    "Write down the equations, and we have 9 variables (treat sin, cos as variables), and 9 nonlinear equations.\n",
    "\n",
    "\\begin{equation}\n",
    "f_{i}(x_{1},x_{2},...,x_{N})=0, \\qquad i=1,2,....,N\n",
    "\\end{equation}\n",
    "\n",
    "\\begin{equation}\n",
    "f(y)=\\left[ \\begin{array}{c} f_{1}(\\bf{y}) \\\\ f_{2}(\\bf{y}) \\\\ f_{3}(\\bf{y}) \\\\ f_{4}(\\bf{y}) \\\\ f_{5}(\\bf{y}) \\\\ f_{6}(\\bf{y}) \\\\ f_{7}(\\bf{y}) \\\\ f_{8}(\\bf{y}) \\\\ f_{9}(\\bf{y}) \\end{array}\\right] = \\left[ \\begin{array}{c} 3x_{4}+4 x_{5} +4 x_{6} - 8 \\\\ 3 x_{1}+4 x_{2} -4 x_{3} \\\\ x_{7}x_{1} - x_{8} x_{2} -10 \\\\ x_{7}x_{4} - x_{8} x_{5} \\\\ x_{8}x_{2} + x_{9}x_{3} -20 \\\\ x_{8}x_{5}-x_{9}x_{6} \\\\ x_{1}^2+x_{4}^2-1 \\\\ x_{2}^2+x_{5}^2-1 \\\\ x_{3}^2+x_{6}^2-1 \\end{array}\\right] =0 \n",
    "\\end{equation}\n",
    "\n",
    "Make a guess ($x_{1},...x_{9}$), and then correct it ($\\Delta x_{1},...,\\Delta x_{9}$), we have\n",
    "\\begin{equation}\n",
    "f_{i}(x_{1}+\\Delta x_{1}, x_{2}+\\Delta x_{2}, ..., x_{9}+\\Delta x_{9})=0 \\qquad, i=1,...,9\n",
    "\\end{equation}\n",
    "We can expand it using Taylor series\n",
    "\\begin{equation}\n",
    "f_{i}(x_{1}+\\Delta x_{1}, x_{2}+\\Delta x_{2}, ..., x_{9}+\\Delta x_{9})\\simeq f_{i}(x_{1},...,x_{9})+\\sum_{j=1}^{9}\\frac{\\partial f_{i}}{\\partial x_{j}}\\Delta x_{j}=0 \\qquad i=1,...,9\n",
    "\\end{equation}\n",
    "\n",
    "\\begin{equation}\n",
    "\\left[ \\begin{array}{c} f_{1}\\\\ f_{2}\\\\ \\ddots \\\\ f_{9} \\end{array}\\right] + \\begin{bmatrix} \\partial f_{1}/\\partial x_{1} & \\partial f_{1}/\\partial x_{2} & ... & \\partial f_{1}/\\partial x_{9} \\\\ \\partial f_{2}/\\partial x_{1} & \\partial f_{2}/\\partial x_{2} & ... & \\partial f_{2}/\\partial x_{9} \\\\ \\ddots \\\\ \\partial f_{9}/\\partial x_{1} & \\partial f_{9}/\\partial x_{2} & ... & \\partial f_{9}/\\partial x_{9}\\end{bmatrix}\\left[ \\begin{array}{c} \\Delta x_{1} \\\\ \\Delta x_{2} \\\\ \\ddots \\\\ \\Delta x_{9} \\end{array}\\right] =0 \n",
    "\\end{equation}\n",
    "\n",
    "So we want to solve the matrix equation\n",
    "\\begin{equation}\n",
    "F'\\Delta {\\bf{x}}=-\\bf{f}\n",
    "\\end{equation}\n",
    "Here we use bold font for a vector, the captal letter to represent a matrix"
   ]
  },
  {
   "cell_type": "markdown",
   "metadata": {},
   "source": [
    "## Newton-Raphson for equations\n",
    "Find the solution for  \n",
    "\\begin{eqnarray}\n",
    "x_{1}^2+x_{1}x_{2}=10\\\\\n",
    "x_{2}+3x_{1}x_{2}^2=57\n",
    "\\end{eqnarray}"
   ]
  },
  {
   "cell_type": "code",
   "execution_count": 11,
   "metadata": {},
   "outputs": [],
   "source": [
    "## Always a good idea to draw the function first\n",
    "import matplotlib.pyplot as plt\n",
    "import numpy as np\n",
    "\n",
    "def f1(x):\n",
    "    return (10.-x*x)/x\n",
    "\n",
    "def f2(x):\n",
    "    return (-1+np.sqrt(1.+4.*3.*x*57))/6./x\n",
    "## Draw graphics to roughly determine x1 and x2"
   ]
  },
  {
   "cell_type": "code",
   "execution_count": 12,
   "metadata": {},
   "outputs": [
    {
     "name": "stdout",
     "output_type": "stream",
     "text": [
      "[-7.0, -43.0]\n"
     ]
    }
   ],
   "source": [
    "# return several values using array\n",
    "import matplotlib.pyplot as plt\n",
    "import numpy as np\n",
    "\n",
    "\n",
    "def F(x,f):\n",
    "    f[0]=x[0]*x[0]+x[0]*x[1]-10.\n",
    "    f[1]=x[1]+3.*x[0]*x[1]*x[1]-57.\n",
    "    return f\n",
    "\n",
    "x=[1.,2.]\n",
    "f=[0.,0.]\n",
    "F(x,f)\n",
    "print(f)\n"
   ]
  },
  {
   "cell_type": "code",
   "execution_count": 13,
   "metadata": {},
   "outputs": [
    {
     "name": "stdout",
     "output_type": "stream",
     "text": [
      "[-6.0]\n",
      "0.0\n"
     ]
    }
   ],
   "source": [
    "\n",
    "f=[0.]       #in f is an array or np.array, the main program can notice that it has been changed within a function (it is similar to pass by pointer (C) or reference (C++))\n",
    "def F2(x,f):\n",
    "    f[0]=x-10.\n",
    "\n",
    "F2(4.,f)\n",
    "print(f)\n",
    "\n",
    "f=0.             #If f is a variable, the main program won't notice that it is changed within the program\n",
    "def F3(x,f):\n",
    "    f=x-10.\n",
    "\n",
    "F3(4.,f)\n",
    "print(f)"
   ]
  },
  {
   "cell_type": "code",
   "execution_count": 14,
   "metadata": {},
   "outputs": [],
   "source": [
    "# Homework: using Newton-Raphson method to solve above equation arrays\n",
    "# Hint: first you need to derive the partical derivative of the equation arrays. You can do it either \n",
    "# analytically by hand or numerically using method we learned in the last lecture."
   ]
  },
  {
   "cell_type": "code",
   "execution_count": 15,
   "metadata": {},
   "outputs": [],
   "source": [
    "def F(x):\n",
    "    f = np.array([0.,0.])\n",
    "    f[0]=x[0]*x[0]+x[0]*x[1]-10.\n",
    "    f[1]=x[1]+3.*x[0]*x[1]*x[1]-57.\n",
    "    return f\n",
    "def F_jacobian(x):\n",
    "    j = np.zeros([2,2])\n",
    "    j[0] = [2*x[0]+x[1],x[0]]\n",
    "    j[1] = [3*x[1]**2,1+8*x[0]]\n",
    "    return j\n",
    "    \n",
    "def newtonraphson_2d(x0,dx, Nmax, eps):\n",
    "    for i in range(Nmax):\n",
    "        x0 = x0 - dx * np.dot(np.linalg.inv(F_jacobian(x0)), (F(x0)[:,np.newaxis])).T[0]\n",
    "        if(abs(sum(F(x0)))<eps):\n",
    "            print(\"Root is at\",x0,\" after \",i,\" iterations, with a precision of \",abs(sum(F(x0))))\n",
    "            break\n",
    "    return x0"
   ]
  },
  {
   "cell_type": "code",
   "execution_count": 16,
   "metadata": {},
   "outputs": [
    {
     "name": "stdout",
     "output_type": "stream",
     "text": [
      "Root is at [2. 3.]  after  188  iterations, with a precision of  9.387851562792093e-08\n"
     ]
    },
    {
     "data": {
      "text/plain": [
       "array([2., 3.])"
      ]
     },
     "execution_count": 16,
     "metadata": {},
     "output_type": "execute_result"
    }
   ],
   "source": [
    "x0 =np.array([1,0])\n",
    "dx = 0.1\n",
    "Nmax = 1000\n",
    "eps = 1e-7\n",
    "newtonraphson_2d(x0,dx, Nmax, eps)"
   ]
  },
  {
   "cell_type": "code",
   "execution_count": null,
   "metadata": {},
   "outputs": [],
   "source": []
  }
 ],
 "metadata": {
  "kernelspec": {
   "display_name": "Python 3",
   "language": "python",
   "name": "python3"
  },
  "language_info": {
   "codemirror_mode": {
    "name": "ipython",
    "version": 3
   },
   "file_extension": ".py",
   "mimetype": "text/x-python",
   "name": "python",
   "nbconvert_exporter": "python",
   "pygments_lexer": "ipython3",
   "version": "3.7.2"
  }
 },
 "nbformat": 4,
 "nbformat_minor": 2
}
